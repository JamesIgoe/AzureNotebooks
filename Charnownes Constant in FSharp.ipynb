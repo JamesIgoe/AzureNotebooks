{
 "cells": [
  {
   "cell_type": "markdown",
   "metadata": {
    "collapsed": true
   },
   "source": [
    "# Champernowne's Constant - Project Euler Problem 40 \n"
   ]
  },
  {
   "cell_type": "markdown",
   "metadata": {
    "collapsed": true
   },
   "source": [
    "## Problem"
   ]
  },
  {
   "cell_type": "markdown",
   "metadata": {
    "collapsed": true
   },
   "source": [
    "An irrational decimal fraction is created by concatenating the positive integers: \n",
    "\n",
    "0.12345678910\n",
    "\n",
    "It can be seen that the 12th digit of the fractional part is 1. \n",
    "\n",
    "If dn represents the nth digit of the fractional part, find the value of the following expression. \n",
    "\n",
    "d1 x d10 x d100 x d1000 x d10000 x d100000 x d1000000"
   ]
  },
  {
   "cell_type": "markdown",
   "metadata": {},
   "source": [
    "## Solution"
   ]
  },
  {
   "cell_type": "code",
   "execution_count": null,
   "metadata": {
    "collapsed": false
   },
   "outputs": [],
   "source": [
    " //speed depends on using StringBuilder, non-idiomatic since it is mutable  \n",
    " let rec NumArray start max maxLength (numString:System.Text.StringBuilder) =   \n",
    "             if start = max || numString.Length >= maxLength then  \n",
    "               numString.Append(start.ToString())  \n",
    "             else  \n",
    "               let newString = numString.Append(start.ToString())  \n",
    "               let nextNum = start + 1  \n",
    "               NumArray nextNum max maxLength newString  \n",
    "   \n",
    " //cast string to int  \n",
    " let convertStringToInt32 (value:string) =   \n",
    "   let mutable result = 0  \n",
    "   let found = System.Int32.TryParse(value, &result)  \n",
    "   result\n",
    "   \n",
    " //create string builder and initialize it  \n",
    " let numStringStart = new System.Text.StringBuilder()  \n",
    " let startString = numStringStart.Append(\".\")  \n",
    "   \n",
    " //variety of tests  \n",
    " //let test_numArray = NumArray 1 100 100000 numStringStart  \n",
    " //let test_stringPosition1 = test_numArray.Chars(0)  \n",
    " //let test_stringPosition10 = test_numArray.Chars(9)  \n",
    " //let test_stringPosition100 = test_numArray.Chars(99)  \n",
    " //let test_stringPosition12 = test_numArray.Chars(11)  \n",
    "   \n",
    " //Create Champernowne's constant nd convert to string  \n",
    " let GetNumArray = NumArray 1 1000000 1000000 startString  \n",
    " let NumArrayToString = GetNumArray.ToString()  \n",
    "   \n",
    " //find solution  \n",
    " let ProdOfValues =   \n",
    "   convertStringToInt32(NumArrayToString.Chars(1).ToString())  \n",
    "    * convertStringToInt32(NumArrayToString.Chars(10).ToString())  \n",
    "    * convertStringToInt32(NumArrayToString.Chars(100).ToString())  \n",
    "     * convertStringToInt32(NumArrayToString.Chars(1000).ToString())  \n",
    "     * convertStringToInt32(NumArrayToString.Chars(10000).ToString())  \n",
    "      * convertStringToInt32(NumArrayToString.Chars(100000).ToString())  \n",
    "      * convertStringToInt32(NumArrayToString.Chars(1000000).ToString())  \n",
    "   \n",
    " //end times  \n",
    " printfn \"%s\" (ProdOfValues.ToString()) "
   ]
  }
 ],
 "metadata": {
  "kernelspec": {
   "display_name": "Python 3",
   "language": "python",
   "name": "python3"
  },
  "language": "fsharp",
  "language_info": {
   "codemirror_mode": "",
   "file_extension": ".fs",
   "mimetype": "text/x-fsharp",
   "name": "python",
   "nbconvert_exporter": "",
   "pygments_lexer": "",
   "version": "3.10.11"
  }
 },
 "nbformat": 4,
 "nbformat_minor": 2
}
