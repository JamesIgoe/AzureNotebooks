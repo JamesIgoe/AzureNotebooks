{
 "cells": [
  {
   "cell_type": "markdown",
   "metadata": {
    "collapsed": true
   },
   "source": [
    "# Intro"
   ]
  },
  {
   "cell_type": "markdown",
   "metadata": {},
   "source": [
    "Principal Component Analysis is a statistical process that distills measurement variation into vectors with greater ability to predict outcomes utilizing a process of scaling, covariance, and eigendecomposition.\n",
    "\n",
    "An outline of the following page:\n",
    "\n",
    "* Supporting Material\n",
    " - Pluralsight\n",
    " - Explained Visually\n",
    " - Wikipedia\n",
    "* Load Data: Format Data & Sort\n",
    "* Prep Data: Create Returns\n",
    "* Generate Principal Components\n",
    " - Eigen Decomposition and Scree Plot\n",
    " - Create Principal Components\n",
    "* Analysis\n",
    " - FVX using PCA\n",
    " - FVX using Logisitic Regression\n",
    "* Alternative Libraries: Psych for the Social Sciences"
   ]
  },
  {
   "cell_type": "markdown",
   "metadata": {},
   "source": [
    "# Supporting Material"
   ]
  },
  {
   "cell_type": "markdown",
   "metadata": {},
   "source": [
    "The following two (2) subsections provide links to bette runderstand the process."
   ]
  },
  {
   "cell_type": "markdown",
   "metadata": {},
   "source": [
    "## Plurasight"
   ]
  },
  {
   "cell_type": "markdown",
   "metadata": {},
   "source": [
    "The work is part of a training course from Pluralsight, Understanding and Applying Factor Analysis and PCA:\n",
    "\n",
    "\n",
    "* https://www.pluralsight.com/courses/understanding-applying-factor-analysis-pca"
   ]
  },
  {
   "cell_type": "markdown",
   "metadata": {},
   "source": [
    "## Explained Visually"
   ]
  },
  {
   "cell_type": "markdown",
   "metadata": {},
   "source": [
    "The site Explained Visally has some great visually-oriented descriptions, below:\n",
    "\n",
    "\n",
    "* Principal Component Analysis: http://setosa.io/ev/principal-component-analysis/\n",
    "\n",
    "* Eigenvectors and Eigenvalues: http://setosa.io/ev/eigenvectors-and-eigenvalues/"
   ]
  },
  {
   "cell_type": "markdown",
   "metadata": {},
   "source": [
    "## Wikipedia"
   ]
  },
  {
   "cell_type": "markdown",
   "metadata": {},
   "source": [
    "* Principal Component Analysis : https://en.wikipedia.org/wiki/Principal_component_analysis\n",
    "\n",
    "* Eigen Vectors: https://en.wikipedia.org/wiki/Eigenvalues_and_eigenvectors\n",
    "\n",
    "* Eigendecomposition: https://en.wikipedia.org/wiki/Eigendecomposition_of_a_matrix"
   ]
  },
  {
   "cell_type": "markdown",
   "metadata": {},
   "source": [
    "# Load Data: Format Data & Sort"
   ]
  },
  {
   "cell_type": "markdown",
   "metadata": {},
   "source": [
    "To prep the data, it is loaded, the date formatted, and sorted."
   ]
  },
  {
   "cell_type": "code",
   "execution_count": 1,
   "metadata": {
    "vscode": {
     "languageId": "r"
    }
   },
   "outputs": [
    {
     "data": {
      "text/html": [
       "<table>\n",
       "<thead><tr><th></th><th scope=col>AsOfDate</th><th scope=col>AAPL</th><th scope=col>ADBE</th><th scope=col>CVX</th><th scope=col>GOOG</th><th scope=col>IBM</th><th scope=col>MDLZ</th><th scope=col>MSFT</th><th scope=col>NFLX</th><th scope=col>ORCL</th><th scope=col>SBUX</th><th scope=col>FVX</th><th scope=col>SP500</th></tr></thead>\n",
       "<tbody>\n",
       "\t<tr><th scope=row>121</th><td>2007-01-03</td><td>11.10714  </td><td>38.87     </td><td>50.77735  </td><td>251.0010  </td><td>79.24250  </td><td>17.51952  </td><td>24.11848  </td><td>3.258571  </td><td>15.69632  </td><td>15.75219  </td><td>4.819     </td><td>1438.24   </td></tr>\n",
       "\t<tr><th scope=row>120</th><td>2007-02-01</td><td>10.96203  </td><td>39.25     </td><td>48.08294  </td><td>224.9500  </td><td>74.50320  </td><td>16.01943  </td><td>22.09246  </td><td>3.218571  </td><td>15.02859  </td><td>13.93081  </td><td>4.503     </td><td>1406.82   </td></tr>\n",
       "\t<tr><th scope=row>119</th><td>2007-03-01</td><td>12.03738  </td><td>41.70     </td><td>51.90038  </td><td>229.3093  </td><td>75.56135  </td><td>16.00935  </td><td>21.85719  </td><td>3.312857  </td><td>16.58358  </td><td>14.13820  </td><td>4.537     </td><td>1420.86   </td></tr>\n",
       "\t<tr><th scope=row>118</th><td>2007-04-02</td><td>12.93004  </td><td>41.56     </td><td>54.58803  </td><td>235.9259  </td><td>81.93428  </td><td>16.92461  </td><td>23.48060  </td><td>3.167143  </td><td>17.19644  </td><td>13.98491  </td><td>4.516     </td><td>1482.37   </td></tr>\n",
       "\t<tr><th scope=row>117</th><td>2007-05-01</td><td>15.70132  </td><td>44.06     </td><td>57.59827  </td><td>249.2042  </td><td>85.78606  </td><td>17.11170  </td><td>24.14675  </td><td>3.128572  </td><td>17.72696  </td><td>12.98857  </td><td>4.853     </td><td>1530.62   </td></tr>\n",
       "\t<tr><th scope=row>116</th><td>2007-06-01</td><td>15.81145  </td><td>40.15     </td><td>59.54200  </td><td>261.6116  </td><td>84.69965  </td><td>17.95071  </td><td>23.18686  </td><td>2.770000  </td><td>18.02882  </td><td>11.82992  </td><td>4.936     </td><td>1503.35   </td></tr>\n",
       "</tbody>\n",
       "</table>\n"
      ],
      "text/latex": [
       "\\begin{tabular}{r|lllllllllllll}\n",
       "  & AsOfDate & AAPL & ADBE & CVX & GOOG & IBM & MDLZ & MSFT & NFLX & ORCL & SBUX & FVX & SP500\\\\\n",
       "\\hline\n",
       "\t121 & 2007-01-03 & 11.10714   & 38.87      & 50.77735   & 251.0010   & 79.24250   & 17.51952   & 24.11848   & 3.258571   & 15.69632   & 15.75219   & 4.819      & 1438.24   \\\\\n",
       "\t120 & 2007-02-01 & 10.96203   & 39.25      & 48.08294   & 224.9500   & 74.50320   & 16.01943   & 22.09246   & 3.218571   & 15.02859   & 13.93081   & 4.503      & 1406.82   \\\\\n",
       "\t119 & 2007-03-01 & 12.03738   & 41.70      & 51.90038   & 229.3093   & 75.56135   & 16.00935   & 21.85719   & 3.312857   & 16.58358   & 14.13820   & 4.537      & 1420.86   \\\\\n",
       "\t118 & 2007-04-02 & 12.93004   & 41.56      & 54.58803   & 235.9259   & 81.93428   & 16.92461   & 23.48060   & 3.167143   & 17.19644   & 13.98491   & 4.516      & 1482.37   \\\\\n",
       "\t117 & 2007-05-01 & 15.70132   & 44.06      & 57.59827   & 249.2042   & 85.78606   & 17.11170   & 24.14675   & 3.128572   & 17.72696   & 12.98857   & 4.853      & 1530.62   \\\\\n",
       "\t116 & 2007-06-01 & 15.81145   & 40.15      & 59.54200   & 261.6116   & 84.69965   & 17.95071   & 23.18686   & 2.770000   & 18.02882   & 11.82992   & 4.936      & 1503.35   \\\\\n",
       "\\end{tabular}\n"
      ],
      "text/markdown": [
       "\n",
       "| <!--/--> | AsOfDate | AAPL | ADBE | CVX | GOOG | IBM | MDLZ | MSFT | NFLX | ORCL | SBUX | FVX | SP500 | \n",
       "|---|---|---|---|---|---|\n",
       "| 121 | 2007-01-03 | 11.10714   | 38.87      | 50.77735   | 251.0010   | 79.24250   | 17.51952   | 24.11848   | 3.258571   | 15.69632   | 15.75219   | 4.819      | 1438.24    | \n",
       "| 120 | 2007-02-01 | 10.96203   | 39.25      | 48.08294   | 224.9500   | 74.50320   | 16.01943   | 22.09246   | 3.218571   | 15.02859   | 13.93081   | 4.503      | 1406.82    | \n",
       "| 119 | 2007-03-01 | 12.03738   | 41.70      | 51.90038   | 229.3093   | 75.56135   | 16.00935   | 21.85719   | 3.312857   | 16.58358   | 14.13820   | 4.537      | 1420.86    | \n",
       "| 118 | 2007-04-02 | 12.93004   | 41.56      | 54.58803   | 235.9259   | 81.93428   | 16.92461   | 23.48060   | 3.167143   | 17.19644   | 13.98491   | 4.516      | 1482.37    | \n",
       "| 117 | 2007-05-01 | 15.70132   | 44.06      | 57.59827   | 249.2042   | 85.78606   | 17.11170   | 24.14675   | 3.128572   | 17.72696   | 12.98857   | 4.853      | 1530.62    | \n",
       "| 116 | 2007-06-01 | 15.81145   | 40.15      | 59.54200   | 261.6116   | 84.69965   | 17.95071   | 23.18686   | 2.770000   | 18.02882   | 11.82992   | 4.936      | 1503.35    | \n",
       "\n",
       "\n"
      ],
      "text/plain": [
       "    AsOfDate   AAPL     ADBE  CVX      GOOG     IBM      MDLZ     MSFT    \n",
       "121 2007-01-03 11.10714 38.87 50.77735 251.0010 79.24250 17.51952 24.11848\n",
       "120 2007-02-01 10.96203 39.25 48.08294 224.9500 74.50320 16.01943 22.09246\n",
       "119 2007-03-01 12.03738 41.70 51.90038 229.3093 75.56135 16.00935 21.85719\n",
       "118 2007-04-02 12.93004 41.56 54.58803 235.9259 81.93428 16.92461 23.48060\n",
       "117 2007-05-01 15.70132 44.06 57.59827 249.2042 85.78606 17.11170 24.14675\n",
       "116 2007-06-01 15.81145 40.15 59.54200 261.6116 84.69965 17.95071 23.18686\n",
       "    NFLX     ORCL     SBUX     FVX   SP500  \n",
       "121 3.258571 15.69632 15.75219 4.819 1438.24\n",
       "120 3.218571 15.02859 13.93081 4.503 1406.82\n",
       "119 3.312857 16.58358 14.13820 4.537 1420.86\n",
       "118 3.167143 17.19644 13.98491 4.516 1482.37\n",
       "117 3.128572 17.72696 12.98857 4.853 1530.62\n",
       "116 2.770000 18.02882 11.82992 4.936 1503.35"
      ]
     },
     "metadata": {},
     "output_type": "display_data"
    }
   ],
   "source": [
    "# load data\n",
    "filePath <- \"Portfolios.csv\"\n",
    "portfolios.dirty <- read.table(filePath, header = TRUE, sep = \",\", stringsAsFactors = FALSE)\n",
    "\n",
    "# convert date\n",
    "# http://www.statmethods.net/input/dates.html\n",
    "portfolios.dirty[, c(\"AsOfDate\")] <- as.Date(portfolios.dirty[, c(\"AsOfDate\")], \"%m/%d/%Y\")\n",
    "\n",
    "# sort: \n",
    "# http://www.statmethods.net/management/sorting.html\n",
    "portfolios.sorted <- portfolios.dirty[order(portfolios.dirty$AsOfDate, decreasing = FALSE),]\n",
    "head(portfolios.sorted)"
   ]
  },
  {
   "cell_type": "markdown",
   "metadata": {},
   "source": [
    "# Prep Data: Create Returns"
   ]
  },
  {
   "cell_type": "markdown",
   "metadata": {},
   "source": [
    "The data needs to be based on returns, the change in price and not just price, which also mean that the first row must be deleted, since it has no relative change from a prior row."
   ]
  },
  {
   "cell_type": "code",
   "execution_count": 2,
   "metadata": {
    "vscode": {
     "languageId": "r"
    }
   },
   "outputs": [
    {
     "data": {
      "text/html": [
       "<table>\n",
       "<thead><tr><th></th><th scope=col>AAPL</th><th scope=col>ADBE</th><th scope=col>CVX</th><th scope=col>GOOG</th><th scope=col>IBM</th><th scope=col>MDLZ</th><th scope=col>MSFT</th><th scope=col>NFLX</th><th scope=col>ORCL</th><th scope=col>SBUX</th><th scope=col>FVX</th><th scope=col>SP500</th></tr></thead>\n",
       "<tbody>\n",
       "\t<tr><th scope=row>121</th><td> 0.013237326 </td><td>-0.009681554 </td><td> 0.05603676  </td><td> 0.11580823  </td><td> 0.06361198  </td><td> 0.0936424314</td><td> 0.09170634  </td><td> 0.01242788  </td><td> 0.04443085  </td><td> 0.13074434  </td><td> 0.070175439 </td><td> 0.022334091 </td></tr>\n",
       "\t<tr><th scope=row>120</th><td>-0.089333748 </td><td>-0.058753020 </td><td>-0.07355329  </td><td>-0.01901083  </td><td>-0.01400377  </td><td> 0.0006291322</td><td> 0.01076419  </td><td>-0.02846063  </td><td>-0.09376719  </td><td>-0.01466842  </td><td>-0.007493939 </td><td>-0.009881367 </td></tr>\n",
       "\t<tr><th scope=row>119</th><td>-0.069038131 </td><td> 0.003368624 </td><td>-0.04923513  </td><td>-0.02804528  </td><td>-0.07778102  </td><td>-0.0540782983</td><td>-0.06913828  </td><td> 0.04600803  </td><td>-0.03563831  </td><td> 0.01096067  </td><td> 0.004650133 </td><td>-0.041494371 </td></tr>\n",
       "\t<tr><th scope=row>118</th><td>-0.176499724 </td><td>-0.056740807 </td><td>-0.05226260  </td><td>-0.05328276  </td><td>-0.04489980  </td><td>-0.0109338030</td><td>-0.02758781  </td><td> 0.01232863  </td><td>-0.02992780  </td><td> 0.07670954  </td><td>-0.069441583 </td><td>-0.031523174 </td></tr>\n",
       "\t<tr><th scope=row>117</th><td>-0.006964953 </td><td> 0.097384777 </td><td>-0.03264480  </td><td>-0.04742678  </td><td> 0.01282663  </td><td>-0.0467396450</td><td> 0.04139801  </td><td> 0.12944838  </td><td>-0.01674270  </td><td> 0.09794208  </td><td>-0.016815235 </td><td> 0.018139501 </td></tr>\n",
       "\t<tr><th scope=row>116</th><td>-0.073770445 </td><td>-0.003474783 </td><td>-0.01196348  </td><td> 0.02490195  </td><td>-0.04880252  </td><td> 0.0763359886</td><td> 0.01655740  </td><td> 0.12536254  </td><td> 0.03085760  </td><td>-0.01649179  </td><td> 0.072577140 </td><td> 0.033038512 </td></tr>\n",
       "</tbody>\n",
       "</table>\n"
      ],
      "text/latex": [
       "\\begin{tabular}{r|llllllllllll}\n",
       "  & AAPL & ADBE & CVX & GOOG & IBM & MDLZ & MSFT & NFLX & ORCL & SBUX & FVX & SP500\\\\\n",
       "\\hline\n",
       "\t121 &  0.013237326  & -0.009681554  &  0.05603676   &  0.11580823   &  0.06361198   &  0.0936424314 &  0.09170634   &  0.01242788   &  0.04443085   &  0.13074434   &  0.070175439  &  0.022334091 \\\\\n",
       "\t120 & -0.089333748  & -0.058753020  & -0.07355329   & -0.01901083   & -0.01400377   &  0.0006291322 &  0.01076419   & -0.02846063   & -0.09376719   & -0.01466842   & -0.007493939  & -0.009881367 \\\\\n",
       "\t119 & -0.069038131  &  0.003368624  & -0.04923513   & -0.02804528   & -0.07778102   & -0.0540782983 & -0.06913828   &  0.04600803   & -0.03563831   &  0.01096067   &  0.004650133  & -0.041494371 \\\\\n",
       "\t118 & -0.176499724  & -0.056740807  & -0.05226260   & -0.05328276   & -0.04489980   & -0.0109338030 & -0.02758781   &  0.01232863   & -0.02992780   &  0.07670954   & -0.069441583  & -0.031523174 \\\\\n",
       "\t117 & -0.006964953  &  0.097384777  & -0.03264480   & -0.04742678   &  0.01282663   & -0.0467396450 &  0.04139801   &  0.12944838   & -0.01674270   &  0.09794208   & -0.016815235  &  0.018139501 \\\\\n",
       "\t116 & -0.073770445  & -0.003474783  & -0.01196348   &  0.02490195   & -0.04880252   &  0.0763359886 &  0.01655740   &  0.12536254   &  0.03085760   & -0.01649179   &  0.072577140  &  0.033038512 \\\\\n",
       "\\end{tabular}\n"
      ],
      "text/markdown": [
       "\n",
       "| <!--/--> | AAPL | ADBE | CVX | GOOG | IBM | MDLZ | MSFT | NFLX | ORCL | SBUX | FVX | SP500 | \n",
       "|---|---|---|---|---|---|\n",
       "| 121 |  0.013237326  | -0.009681554  |  0.05603676   |  0.11580823   |  0.06361198   |  0.0936424314 |  0.09170634   |  0.01242788   |  0.04443085   |  0.13074434   |  0.070175439  |  0.022334091  | \n",
       "| 120 | -0.089333748  | -0.058753020  | -0.07355329   | -0.01901083   | -0.01400377   |  0.0006291322 |  0.01076419   | -0.02846063   | -0.09376719   | -0.01466842   | -0.007493939  | -0.009881367  | \n",
       "| 119 | -0.069038131  |  0.003368624  | -0.04923513   | -0.02804528   | -0.07778102   | -0.0540782983 | -0.06913828   |  0.04600803   | -0.03563831   |  0.01096067   |  0.004650133  | -0.041494371  | \n",
       "| 118 | -0.176499724  | -0.056740807  | -0.05226260   | -0.05328276   | -0.04489980   | -0.0109338030 | -0.02758781   |  0.01232863   | -0.02992780   |  0.07670954   | -0.069441583  | -0.031523174  | \n",
       "| 117 | -0.006964953  |  0.097384777  | -0.03264480   | -0.04742678   |  0.01282663   | -0.0467396450 |  0.04139801   |  0.12944838   | -0.01674270   |  0.09794208   | -0.016815235  |  0.018139501  | \n",
       "| 116 | -0.073770445  | -0.003474783  | -0.01196348   |  0.02490195   | -0.04880252   |  0.0763359886 |  0.01655740   |  0.12536254   |  0.03085760   | -0.01649179   |  0.072577140  |  0.033038512  | \n",
       "\n",
       "\n"
      ],
      "text/plain": [
       "    AAPL         ADBE         CVX         GOOG        IBM         MDLZ         \n",
       "121  0.013237326 -0.009681554  0.05603676  0.11580823  0.06361198  0.0936424314\n",
       "120 -0.089333748 -0.058753020 -0.07355329 -0.01901083 -0.01400377  0.0006291322\n",
       "119 -0.069038131  0.003368624 -0.04923513 -0.02804528 -0.07778102 -0.0540782983\n",
       "118 -0.176499724 -0.056740807 -0.05226260 -0.05328276 -0.04489980 -0.0109338030\n",
       "117 -0.006964953  0.097384777 -0.03264480 -0.04742678  0.01282663 -0.0467396450\n",
       "116 -0.073770445 -0.003474783 -0.01196348  0.02490195 -0.04880252  0.0763359886\n",
       "    MSFT        NFLX        ORCL        SBUX        FVX          SP500       \n",
       "121  0.09170634  0.01242788  0.04443085  0.13074434  0.070175439  0.022334091\n",
       "120  0.01076419 -0.02846063 -0.09376719 -0.01466842 -0.007493939 -0.009881367\n",
       "119 -0.06913828  0.04600803 -0.03563831  0.01096067  0.004650133 -0.041494371\n",
       "118 -0.02758781  0.01232863 -0.02992780  0.07670954 -0.069441583 -0.031523174\n",
       "117  0.04139801  0.12944838 -0.01674270  0.09794208 -0.016815235  0.018139501\n",
       "116  0.01655740  0.12536254  0.03085760 -0.01649179  0.072577140  0.033038512"
      ]
     },
     "metadata": {},
     "output_type": "display_data"
    }
   ],
   "source": [
    "# new data, preserving original\n",
    "returns <- portfolios.sorted\n",
    "\n",
    "# calculate returns\n",
    "returns[-nrow(returns), -1] <- returns[-nrow(returns), -1] / returns[-1, -1] - 1\n",
    "\n",
    "# removes last row, since it is not a valid return value\n",
    "returns <- returns[-nrow(returns),]\n",
    "\n",
    "# create a data frame of stock names, not the date and not the factors\n",
    "stockNames = names(returns)[-which(names(returns) %in% c('AsOfDate'))]\n",
    "\n",
    "# create a data frame of only stocks\n",
    "stockReturns <- returns[stockNames]\n",
    "head(stockReturns)"
   ]
  },
  {
   "cell_type": "markdown",
   "metadata": {},
   "source": [
    "# Generate Principal Components"
   ]
  },
  {
   "cell_type": "markdown",
   "metadata": {},
   "source": [
    "To generate principal components:\n",
    "\n",
    "- The data is scaled\n",
    "- A covariance matrix generated\n",
    "- An Eigenecomposition performed\n",
    "- A scree plot is generated to evalaute the strength of the eigen values\n",
    "- Eigen vectors are matrix multiplied by the scaled vectors\n",
    "\n",
    "Note: Although we generated a scree plot, one can simply by evaluate the number themselves. In this case the scree plot shows that the first principal component explains over 50 percent of the variance."
   ]
  },
  {
   "cell_type": "markdown",
   "metadata": {},
   "source": [
    "## Eigen Decomposition and Scree Plot"
   ]
  },
  {
   "cell_type": "code",
   "execution_count": 3,
   "metadata": {
    "vscode": {
     "languageId": "r"
    }
   },
   "outputs": [
    {
     "data": {
      "image/png": "[encoded data removed]",
      "text/plain": [
       "plot without title"
      ]
     },
     "metadata": {},
     "output_type": "display_data"
    }
   ],
   "source": [
    "stockReturns.scaled = scale(stockReturns)\n",
    "\n",
    "stockReturns.cov <- cov(stockReturns.scaled)\n",
    "\n",
    "stockReturns.eigen <- eigen(stockReturns.cov)\n",
    "\n",
    "eigenValues <- stockReturns.eigen$values\n",
    "eigenVectors <- stockReturns.eigen$vectors\n",
    "\n",
    "# scree plot\n",
    "plot(eigenValues, type = \"b\")"
   ]
  },
  {
   "cell_type": "markdown",
   "metadata": {},
   "source": [
    "## Create Principal Components"
   ]
  },
  {
   "cell_type": "code",
   "execution_count": 4,
   "metadata": {
    "vscode": {
     "languageId": "r"
    }
   },
   "outputs": [
    {
     "data": {
      "text/html": [
       "<table>\n",
       "<thead><tr><th></th><th scope=col>pcaOne</th><th scope=col>pcaTwo</th><th scope=col>pcaThree</th></tr></thead>\n",
       "<tbody>\n",
       "\t<tr><th scope=row>121</th><td>-3.0017131 </td><td>-0.1933158 </td><td>-0.38658150</td></tr>\n",
       "\t<tr><th scope=row>120</th><td> 1.2911600 </td><td>-0.5510177 </td><td> 0.31662153</td></tr>\n",
       "\t<tr><th scope=row>119</th><td> 1.6752924 </td><td>-0.4436764 </td><td> 0.77358849</td></tr>\n",
       "\t<tr><th scope=row>118</th><td> 1.5729454 </td><td>-0.9424242 </td><td> 0.09784403</td></tr>\n",
       "\t<tr><th scope=row>117</th><td>-0.8051984 </td><td>-1.1248464 </td><td> 0.90201542</td></tr>\n",
       "\t<tr><th scope=row>116</th><td>-0.7377155 </td><td>-0.8601747 </td><td>-0.53989377</td></tr>\n",
       "</tbody>\n",
       "</table>\n"
      ],
      "text/latex": [
       "\\begin{tabular}{r|lll}\n",
       "  & pcaOne & pcaTwo & pcaThree\\\\\n",
       "\\hline\n",
       "\t121 & -3.0017131  & -0.1933158  & -0.38658150\\\\\n",
       "\t120 &  1.2911600  & -0.5510177  &  0.31662153\\\\\n",
       "\t119 &  1.6752924  & -0.4436764  &  0.77358849\\\\\n",
       "\t118 &  1.5729454  & -0.9424242  &  0.09784403\\\\\n",
       "\t117 & -0.8051984  & -1.1248464  &  0.90201542\\\\\n",
       "\t116 & -0.7377155  & -0.8601747  & -0.53989377\\\\\n",
       "\\end{tabular}\n"
      ],
      "text/markdown": [
       "\n",
       "| <!--/--> | pcaOne | pcaTwo | pcaThree | \n",
       "|---|---|---|---|---|---|\n",
       "| 121 | -3.0017131  | -0.1933158  | -0.38658150 | \n",
       "| 120 |  1.2911600  | -0.5510177  |  0.31662153 | \n",
       "| 119 |  1.6752924  | -0.4436764  |  0.77358849 | \n",
       "| 118 |  1.5729454  | -0.9424242  |  0.09784403 | \n",
       "| 117 | -0.8051984  | -1.1248464  |  0.90201542 | \n",
       "| 116 | -0.7377155  | -0.8601747  | -0.53989377 | \n",
       "\n",
       "\n"
      ],
      "text/plain": [
       "    pcaOne     pcaTwo     pcaThree   \n",
       "121 -3.0017131 -0.1933158 -0.38658150\n",
       "120  1.2911600 -0.5510177  0.31662153\n",
       "119  1.6752924 -0.4436764  0.77358849\n",
       "118  1.5729454 -0.9424242  0.09784403\n",
       "117 -0.8051984 -1.1248464  0.90201542\n",
       "116 -0.7377155 -0.8601747 -0.53989377"
      ]
     },
     "metadata": {},
     "output_type": "display_data"
    },
    {
     "data": {
      "text/html": [
       "<table>\n",
       "<thead><tr><th></th><th scope=col>pcaOne</th><th scope=col>pcaTwo</th><th scope=col>pcaThree</th></tr></thead>\n",
       "<tbody>\n",
       "\t<tr><th scope=row>7</th><td> 0.2160844  </td><td> 0.007583937</td><td>-0.4111759  </td></tr>\n",
       "\t<tr><th scope=row>6</th><td>-0.1499740  </td><td>-0.248947616</td><td>-0.1778504  </td></tr>\n",
       "\t<tr><th scope=row>5</th><td>-0.1333889  </td><td> 0.448253174</td><td>-0.6535593  </td></tr>\n",
       "\t<tr><th scope=row>4</th><td> 0.7875921  </td><td>-1.504781568</td><td>-1.4636208  </td></tr>\n",
       "\t<tr><th scope=row>3</th><td> 0.6493136  </td><td> 0.072674219</td><td> 0.6505752  </td></tr>\n",
       "\t<tr><th scope=row>2</th><td> 1.1604751  </td><td> 0.654635664</td><td>-0.7123009  </td></tr>\n",
       "</tbody>\n",
       "</table>\n"
      ],
      "text/latex": [
       "\\begin{tabular}{r|lll}\n",
       "  & pcaOne & pcaTwo & pcaThree\\\\\n",
       "\\hline\n",
       "\t7 &  0.2160844   &  0.007583937 & -0.4111759  \\\\\n",
       "\t6 & -0.1499740   & -0.248947616 & -0.1778504  \\\\\n",
       "\t5 & -0.1333889   &  0.448253174 & -0.6535593  \\\\\n",
       "\t4 &  0.7875921   & -1.504781568 & -1.4636208  \\\\\n",
       "\t3 &  0.6493136   &  0.072674219 &  0.6505752  \\\\\n",
       "\t2 &  1.1604751   &  0.654635664 & -0.7123009  \\\\\n",
       "\\end{tabular}\n"
      ],
      "text/markdown": [
       "\n",
       "| <!--/--> | pcaOne | pcaTwo | pcaThree | \n",
       "|---|---|---|---|---|---|\n",
       "| 7 |  0.2160844   |  0.007583937 | -0.4111759   | \n",
       "| 6 | -0.1499740   | -0.248947616 | -0.1778504   | \n",
       "| 5 | -0.1333889   |  0.448253174 | -0.6535593   | \n",
       "| 4 |  0.7875921   | -1.504781568 | -1.4636208   | \n",
       "| 3 |  0.6493136   |  0.072674219 |  0.6505752   | \n",
       "| 2 |  1.1604751   |  0.654635664 | -0.7123009   | \n",
       "\n",
       "\n"
      ],
      "text/plain": [
       "  pcaOne     pcaTwo       pcaThree  \n",
       "7  0.2160844  0.007583937 -0.4111759\n",
       "6 -0.1499740 -0.248947616 -0.1778504\n",
       "5 -0.1333889  0.448253174 -0.6535593\n",
       "4  0.7875921 -1.504781568 -1.4636208\n",
       "3  0.6493136  0.072674219  0.6505752\n",
       "2  1.1604751  0.654635664 -0.7123009"
      ]
     },
     "metadata": {},
     "output_type": "display_data"
    }
   ],
   "source": [
    "# check on correctness\n",
    "#eigenVetors %*% t(eigenVetors)\n",
    "\n",
    "# create principal component analysis\n",
    "pcaOne <- as.matrix(stockReturns.scaled) %*% eigenVectors[,1]\n",
    "pcaTwo <- as.matrix(stockReturns.scaled) %*% eigenVectors[,2]\n",
    "pcaThree <- as.matrix(stockReturns.scaled) %*% eigenVectors[,3]\n",
    "\n",
    "pca <- data.frame(pcaOne, pcaTwo, pcaThree)\n",
    "\n",
    "# examine result\n",
    "head(pca)\n",
    "tail(pca)"
   ]
  },
  {
   "cell_type": "markdown",
   "metadata": {},
   "source": [
    "# Analysis"
   ]
  },
  {
   "cell_type": "markdown",
   "metadata": {},
   "source": [
    "To highlight the power of PCA, I've created two (2) comparisons, predicting the FVX (http://www.marketwatch.com/investing/index/fvx?countrycode=xx) from PCA versus using logistic regression against all stocks, the latter to show if there are any correlations."
   ]
  },
  {
   "cell_type": "markdown",
   "metadata": {},
   "source": [
    "## FVX using PCA"
   ]
  },
  {
   "cell_type": "code",
   "execution_count": 5,
   "metadata": {
    "vscode": {
     "languageId": "r"
    }
   },
   "outputs": [
    {
     "data": {
      "text/plain": [
       "\n",
       "Call:\n",
       "lm(formula = stockReturns$FVX ~ pcaOne + pcaTwo + pcaThree)\n",
       "\n",
       "Residuals:\n",
       "      Min        1Q    Median        3Q       Max \n",
       "-0.228370 -0.070722  0.002269  0.059415  0.286974 \n",
       "\n",
       "Coefficients:\n",
       "             Estimate Std. Error t value Pr(>|t|)    \n",
       "(Intercept)  0.018420   0.009275   1.986   0.0494 *  \n",
       "pcaOne      -0.027117   0.004028  -6.732 6.72e-10 ***\n",
       "pcaTwo       0.045286   0.009129   4.961 2.43e-06 ***\n",
       "pcaThree     0.079448   0.009444   8.413 1.19e-13 ***\n",
       "---\n",
       "Signif. codes:  0 '***' 0.001 '**' 0.01 '*' 0.05 '.' 0.1 ' ' 1\n",
       "\n",
       "Residual standard error: 0.1016 on 116 degrees of freedom\n",
       "Multiple R-squared:  0.5481,\tAdjusted R-squared:  0.5364 \n",
       "F-statistic:  46.9 on 3 and 116 DF,  p-value: < 2.2e-16\n"
      ]
     },
     "metadata": {},
     "output_type": "display_data"
    }
   ],
   "source": [
    "pcaFVX <- lm(stockReturns$FVX ~ pcaOne + pcaTwo + pcaThree)\n",
    "summary(pcaFVX)"
   ]
  },
  {
   "cell_type": "markdown",
   "metadata": {},
   "source": [
    "## FVX using Logisitic Regression"
   ]
  },
  {
   "cell_type": "code",
   "execution_count": 6,
   "metadata": {
    "vscode": {
     "languageId": "r"
    }
   },
   "outputs": [
    {
     "data": {
      "text/plain": [
       "\n",
       "Call:\n",
       "lm(formula = FVX ~ SP500 + GOOG + AAPL + ADBE + CVX + IBM + MDLZ + \n",
       "    MSFT + NFLX + ORCL + SBUX, data = stockReturns)\n",
       "\n",
       "Residuals:\n",
       "     Min       1Q   Median       3Q      Max \n",
       "-0.33511 -0.07983 -0.00106  0.08197  0.32382 \n",
       "\n",
       "Coefficients:\n",
       "             Estimate Std. Error t value Pr(>|t|)  \n",
       "(Intercept)  0.023793   0.013339   1.784   0.0773 .\n",
       "SP500       -0.691827   0.719053  -0.962   0.3381  \n",
       "GOOG         0.312631   0.219104   1.427   0.1565  \n",
       "AAPL        -0.134176   0.170626  -0.786   0.4334  \n",
       "ADBE         0.273048   0.238713   1.144   0.2552  \n",
       "CVX          0.330912   0.304777   1.086   0.2800  \n",
       "IBM          0.450707   0.303746   1.484   0.1408  \n",
       "MDLZ        -0.238541   0.282783  -0.844   0.4008  \n",
       "MSFT         0.186383   0.262271   0.711   0.4788  \n",
       "NFLX        -0.001722   0.077568  -0.022   0.9823  \n",
       "ORCL         0.256440   0.282833   0.907   0.3666  \n",
       "SBUX         0.152309   0.203625   0.748   0.4561  \n",
       "---\n",
       "Signif. codes:  0 '***' 0.001 '**' 0.01 '*' 0.05 '.' 0.1 ' ' 1\n",
       "\n",
       "Residual standard error: 0.1422 on 108 degrees of freedom\n",
       "Multiple R-squared:  0.1763,\tAdjusted R-squared:  0.09236 \n",
       "F-statistic: 2.101 on 11 and 108 DF,  p-value: 0.02604\n"
      ]
     },
     "metadata": {},
     "output_type": "display_data"
    }
   ],
   "source": [
    "pcaCompare <- lm(FVX ~ SP500 + GOOG + AAPL + ADBE + CVX + IBM + MDLZ + MSFT + NFLX + ORCL + SBUX, data=stockReturns)\n",
    "summary(pcaCompare)"
   ]
  },
  {
   "cell_type": "markdown",
   "metadata": {},
   "source": [
    "# Alternative Libraries: Psych for the Social Sciences"
   ]
  },
  {
   "cell_type": "markdown",
   "metadata": {},
   "source": [
    "The Personality Project (http://personality-project.org/) is most popularly known for its work on the Big Five (https://en.wikipedia.org/wiki/Big_Five_personality_traits), aka OCEAN, personality inventory. As part of its work, they have developed and provide an R package, psych. The package's page is at http://personality-project.org/r/psych/, while the R documentation is at https://www.rdocumentation.org/packages/psych."
   ]
  },
  {
   "cell_type": "code",
   "execution_count": 7,
   "metadata": {
    "vscode": {
     "languageId": "r"
    }
   },
   "outputs": [
    {
     "name": "stderr",
     "output_type": "stream",
     "text": [
      "Installing package into '/home/nbcommon/R'\n",
      "(as 'lib' is unspecified)\n"
     ]
    },
    {
     "data": {
      "text/plain": [
       "Principal Components Analysis\n",
       "Call: principal(r = stockReturns.cov, nfactors = 3, rotate = \"none\")\n",
       "Standardized loadings (pattern matrix) based upon correlation matrix\n",
       "       PC1   PC2   PC3   h2   u2 com\n",
       "AAPL  0.67 -0.15  0.11 0.48 0.52 1.2\n",
       "ADBE  0.80  0.14 -0.03 0.67 0.33 1.1\n",
       "CVX   0.64 -0.29 -0.36 0.62 0.38 2.0\n",
       "GOOG  0.70 -0.15  0.21 0.56 0.44 1.3\n",
       "IBM   0.68  0.08  0.03 0.48 0.52 1.0\n",
       "MDLZ  0.52  0.29 -0.56 0.68 0.32 2.5\n",
       "MSFT  0.73 -0.10  0.14 0.57 0.43 1.1\n",
       "NFLX  0.25  0.79  0.30 0.78 0.22 1.5\n",
       "ORCL  0.76 -0.16 -0.10 0.61 0.39 1.1\n",
       "SBUX  0.64  0.20  0.22 0.50 0.50 1.5\n",
       "FVX   0.42 -0.31  0.53 0.55 0.45 2.6\n",
       "SP500 0.93  0.06 -0.16 0.89 0.11 1.1\n",
       "\n",
       "                       PC1  PC2  PC3\n",
       "SS loadings           5.35 1.04 0.97\n",
       "Proportion Var        0.45 0.09 0.08\n",
       "Cumulative Var        0.45 0.53 0.61\n",
       "Proportion Explained  0.73 0.14 0.13\n",
       "Cumulative Proportion 0.73 0.87 1.00\n",
       "\n",
       "Mean item complexity =  1.5\n",
       "Test of the hypothesis that 3 components are sufficient.\n",
       "\n",
       "The root mean square of the residuals (RMSR) is  0.08 \n",
       "\n",
       "Fit based upon off diagonal values = 0.96"
      ]
     },
     "metadata": {},
     "output_type": "display_data"
    }
   ],
   "source": [
    "install.packages('psych')\n",
    "library(psych)\n",
    "principal(stockReturns.cov, nfactors = 3, rotate = \"none\")"
   ]
  }
 ],
 "metadata": {
  "kernelspec": {
   "display_name": "R",
   "language": "R",
   "name": "r"
  },
  "language_info": {
   "codemirror_mode": "r",
   "file_extension": ".r",
   "mimetype": "text/x-r-source",
   "name": "R",
   "pygments_lexer": "r",
   "version": "3.3.0"
  }
 },
 "nbformat": 4,
 "nbformat_minor": 2
}
