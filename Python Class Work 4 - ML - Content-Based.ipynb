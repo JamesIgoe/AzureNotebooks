{
 "metadata": {
  "language_info": {
   "codemirror_mode": {
    "name": "ipython",
    "version": 3
   },
   "file_extension": ".py",
   "mimetype": "text/x-python",
   "name": "python",
   "nbconvert_exporter": "python",
   "pygments_lexer": "ipython3",
   "version": "3.7.6-final"
  },
  "orig_nbformat": 2,
  "kernelspec": {
   "name": "python_defaultSpec_1600204045177",
   "display_name": "Python 3.7.6 64-bit ('base': conda)"
  }
 },
 "nbformat": 4,
 "nbformat_minor": 2,
 "cells": [
  {
   "cell_type": "code",
   "execution_count": 3,
   "metadata": {},
   "outputs": [],
   "source": [
    "#Dataframe manipulation library\n",
    "import pandas as pd\n",
    "#Math functions, we'll only need the sqrt function so let's import only that\n",
    "from math import sqrt\n",
    "import numpy as np\n",
    "import matplotlib.pyplot as plt\n",
    "%matplotlib inline"
   ]
  },
  {
   "source": [
    "# data source\n",
    "https://s3-api.us-geo.objectstorage.softlayer.net/cf-courses-data/CognitiveClass/ML0101ENv3/labs/moviedataset.zip"
   ],
   "cell_type": "markdown",
   "metadata": {}
  },
  {
   "cell_type": "code",
   "execution_count": 4,
   "metadata": {},
   "outputs": [],
   "source": [
    "\n",
    "#Storing the movie information into a pandas dataframe\n",
    "moviePath = 'c:\\\\Users\\\\igoej\\\\OneDrive\\\\Documents\\\\GitHub\\\\DataAnalytics\\\\Data\\\\moviedataset\\\\ml-latest\\\\movies.csv'\n",
    "movies_df = pd.read_csv(moviePath)\n",
    "\n",
    "#Storing the user information into a pandas dataframe\n",
    "ratingsPath = 'c:\\\\Users\\\\igoej\\\\OneDrive\\\\Documents\\\\GitHub\\\\DataAnalytics\\\\Data\\\\moviedataset\\\\ml-latest\\\\ratings.csv'\n",
    "ratings_df = pd.read_csv(ratingsPath)"
   ]
  },
  {
   "cell_type": "code",
   "execution_count": 11,
   "metadata": {
    "tags": []
   },
   "outputs": [
    {
     "output_type": "stream",
     "name": "stdout",
     "text": "<class 'pandas.core.frame.DataFrame'>\nRangeIndex: 34208 entries, 0 to 34207\nData columns (total 3 columns):\n #   Column   Non-Null Count  Dtype \n---  ------   --------------  ----- \n 0   movieId  34208 non-null  int64 \n 1   title    34208 non-null  object\n 2   genres   34208 non-null  object\ndtypes: int64(1), object(2)\nmemory usage: 801.9+ KB\n"
    }
   ],
   "source": [
    "movies_df.info()"
   ]
  },
  {
   "cell_type": "code",
   "execution_count": 12,
   "metadata": {
    "tags": []
   },
   "outputs": [
    {
     "output_type": "stream",
     "name": "stdout",
     "text": "<class 'pandas.core.frame.DataFrame'>\nRangeIndex: 22884377 entries, 0 to 22884376\nData columns (total 4 columns):\n #   Column     Dtype  \n---  ------     -----  \n 0   userId     int64  \n 1   movieId    int64  \n 2   rating     float64\n 3   timestamp  int64  \ndtypes: float64(1), int64(3)\nmemory usage: 698.4 MB\n"
    }
   ],
   "source": [
    "ratings_df.info()"
   ]
  },
  {
   "cell_type": "code",
   "execution_count": 13,
   "metadata": {},
   "outputs": [
    {
     "output_type": "execute_result",
     "data": {
      "text/plain": "   movieId                        title  \\\n0        1                    Toy Story   \n1        2                      Jumanji   \n2        3             Grumpier Old Men   \n3        4            Waiting to Exhale   \n4        5  Father of the Bride Part II   \n\n                                        genres  year  \n0  Adventure|Animation|Children|Comedy|Fantasy  1995  \n1                   Adventure|Children|Fantasy  1995  \n2                               Comedy|Romance  1995  \n3                         Comedy|Drama|Romance  1995  \n4                                       Comedy  1995  ",
      "text/html": "<div>\n<style scoped>\n    .dataframe tbody tr th:only-of-type {\n        vertical-align: middle;\n    }\n\n    .dataframe tbody tr th {\n        vertical-align: top;\n    }\n\n    .dataframe thead th {\n        text-align: right;\n    }\n</style>\n<table border=\"1\" class=\"dataframe\">\n  <thead>\n    <tr style=\"text-align: right;\">\n      <th></th>\n      <th>movieId</th>\n      <th>title</th>\n      <th>genres</th>\n      <th>year</th>\n    </tr>\n  </thead>\n  <tbody>\n    <tr>\n      <th>0</th>\n      <td>1</td>\n      <td>Toy Story</td>\n      <td>Adventure|Animation|Children|Comedy|Fantasy</td>\n      <td>1995</td>\n    </tr>\n    <tr>\n      <th>1</th>\n      <td>2</td>\n      <td>Jumanji</td>\n      <td>Adventure|Children|Fantasy</td>\n      <td>1995</td>\n    </tr>\n    <tr>\n      <th>2</th>\n      <td>3</td>\n      <td>Grumpier Old Men</td>\n      <td>Comedy|Romance</td>\n      <td>1995</td>\n    </tr>\n    <tr>\n      <th>3</th>\n      <td>4</td>\n      <td>Waiting to Exhale</td>\n      <td>Comedy|Drama|Romance</td>\n      <td>1995</td>\n    </tr>\n    <tr>\n      <th>4</th>\n      <td>5</td>\n      <td>Father of the Bride Part II</td>\n      <td>Comedy</td>\n      <td>1995</td>\n    </tr>\n  </tbody>\n</table>\n</div>"
     },
     "metadata": {},
     "execution_count": 13
    }
   ],
   "source": [
    "#Using regular expressions to find a year stored between parentheses\n",
    "#We specify the parantheses so we don't conflict with movies that have years in their titles\n",
    "movies_df['year'] = movies_df.title.str.extract('(\\(\\d\\d\\d\\d\\))',expand=False)\n",
    "#Removing the parentheses\n",
    "movies_df['year'] = movies_df.year.str.extract('(\\d\\d\\d\\d)',expand=False)\n",
    "#Removing the years from the 'title' column\n",
    "movies_df['title'] = movies_df.title.str.replace('(\\(\\d\\d\\d\\d\\))', '')\n",
    "#Applying the strip function to get rid of any ending whitespace characters that may have appeared\n",
    "movies_df['title'] = movies_df['title'].apply(lambda x: x.strip())\n",
    "movies_df.head()"
   ]
  },
  {
   "cell_type": "code",
   "execution_count": 14,
   "metadata": {},
   "outputs": [
    {
     "output_type": "execute_result",
     "data": {
      "text/plain": "   movieId                        title  \\\n0        1                    Toy Story   \n1        2                      Jumanji   \n2        3             Grumpier Old Men   \n3        4            Waiting to Exhale   \n4        5  Father of the Bride Part II   \n\n                                              genres  year  \n0  [Adventure, Animation, Children, Comedy, Fantasy]  1995  \n1                     [Adventure, Children, Fantasy]  1995  \n2                                  [Comedy, Romance]  1995  \n3                           [Comedy, Drama, Romance]  1995  \n4                                           [Comedy]  1995  ",
      "text/html": "<div>\n<style scoped>\n    .dataframe tbody tr th:only-of-type {\n        vertical-align: middle;\n    }\n\n    .dataframe tbody tr th {\n        vertical-align: top;\n    }\n\n    .dataframe thead th {\n        text-align: right;\n    }\n</style>\n<table border=\"1\" class=\"dataframe\">\n  <thead>\n    <tr style=\"text-align: right;\">\n      <th></th>\n      <th>movieId</th>\n      <th>title</th>\n      <th>genres</th>\n      <th>year</th>\n    </tr>\n  </thead>\n  <tbody>\n    <tr>\n      <th>0</th>\n      <td>1</td>\n      <td>Toy Story</td>\n      <td>[Adventure, Animation, Children, Comedy, Fantasy]</td>\n      <td>1995</td>\n    </tr>\n    <tr>\n      <th>1</th>\n      <td>2</td>\n      <td>Jumanji</td>\n      <td>[Adventure, Children, Fantasy]</td>\n      <td>1995</td>\n    </tr>\n    <tr>\n      <th>2</th>\n      <td>3</td>\n      <td>Grumpier Old Men</td>\n      <td>[Comedy, Romance]</td>\n      <td>1995</td>\n    </tr>\n    <tr>\n      <th>3</th>\n      <td>4</td>\n      <td>Waiting to Exhale</td>\n      <td>[Comedy, Drama, Romance]</td>\n      <td>1995</td>\n    </tr>\n    <tr>\n      <th>4</th>\n      <td>5</td>\n      <td>Father of the Bride Part II</td>\n      <td>[Comedy]</td>\n      <td>1995</td>\n    </tr>\n  </tbody>\n</table>\n</div>"
     },
     "metadata": {},
     "execution_count": 14
    }
   ],
   "source": [
    "#Every genre is separated by a | so we simply have to call the split function on |\n",
    "movies_df['genres'] = movies_df.genres.str.split('|')\n",
    "movies_df.head()"
   ]
  },
  {
   "cell_type": "code",
   "execution_count": 15,
   "metadata": {},
   "outputs": [
    {
     "output_type": "execute_result",
     "data": {
      "text/plain": "   movieId                        title  \\\n0        1                    Toy Story   \n1        2                      Jumanji   \n2        3             Grumpier Old Men   \n3        4            Waiting to Exhale   \n4        5  Father of the Bride Part II   \n\n                                              genres  year  Adventure  \\\n0  [Adventure, Animation, Children, Comedy, Fantasy]  1995        1.0   \n1                     [Adventure, Children, Fantasy]  1995        1.0   \n2                                  [Comedy, Romance]  1995        0.0   \n3                           [Comedy, Drama, Romance]  1995        0.0   \n4                                           [Comedy]  1995        0.0   \n\n   Animation  Children  Comedy  Fantasy  Romance  ...  Horror  Mystery  \\\n0        1.0       1.0     1.0      1.0      0.0  ...     0.0      0.0   \n1        0.0       1.0     0.0      1.0      0.0  ...     0.0      0.0   \n2        0.0       0.0     1.0      0.0      1.0  ...     0.0      0.0   \n3        0.0       0.0     1.0      0.0      1.0  ...     0.0      0.0   \n4        0.0       0.0     1.0      0.0      0.0  ...     0.0      0.0   \n\n   Sci-Fi  IMAX  Documentary  War  Musical  Western  Film-Noir  \\\n0     0.0   0.0          0.0  0.0      0.0      0.0        0.0   \n1     0.0   0.0          0.0  0.0      0.0      0.0        0.0   \n2     0.0   0.0          0.0  0.0      0.0      0.0        0.0   \n3     0.0   0.0          0.0  0.0      0.0      0.0        0.0   \n4     0.0   0.0          0.0  0.0      0.0      0.0        0.0   \n\n   (no genres listed)  \n0                 0.0  \n1                 0.0  \n2                 0.0  \n3                 0.0  \n4                 0.0  \n\n[5 rows x 24 columns]",
      "text/html": "<div>\n<style scoped>\n    .dataframe tbody tr th:only-of-type {\n        vertical-align: middle;\n    }\n\n    .dataframe tbody tr th {\n        vertical-align: top;\n    }\n\n    .dataframe thead th {\n        text-align: right;\n    }\n</style>\n<table border=\"1\" class=\"dataframe\">\n  <thead>\n    <tr style=\"text-align: right;\">\n      <th></th>\n      <th>movieId</th>\n      <th>title</th>\n      <th>genres</th>\n      <th>year</th>\n      <th>Adventure</th>\n      <th>Animation</th>\n      <th>Children</th>\n      <th>Comedy</th>\n      <th>Fantasy</th>\n      <th>Romance</th>\n      <th>...</th>\n      <th>Horror</th>\n      <th>Mystery</th>\n      <th>Sci-Fi</th>\n      <th>IMAX</th>\n      <th>Documentary</th>\n      <th>War</th>\n      <th>Musical</th>\n      <th>Western</th>\n      <th>Film-Noir</th>\n      <th>(no genres listed)</th>\n    </tr>\n  </thead>\n  <tbody>\n    <tr>\n      <th>0</th>\n      <td>1</td>\n      <td>Toy Story</td>\n      <td>[Adventure, Animation, Children, Comedy, Fantasy]</td>\n      <td>1995</td>\n      <td>1.0</td>\n      <td>1.0</td>\n      <td>1.0</td>\n      <td>1.0</td>\n      <td>1.0</td>\n      <td>0.0</td>\n      <td>...</td>\n      <td>0.0</td>\n      <td>0.0</td>\n      <td>0.0</td>\n      <td>0.0</td>\n      <td>0.0</td>\n      <td>0.0</td>\n      <td>0.0</td>\n      <td>0.0</td>\n      <td>0.0</td>\n      <td>0.0</td>\n    </tr>\n    <tr>\n      <th>1</th>\n      <td>2</td>\n      <td>Jumanji</td>\n      <td>[Adventure, Children, Fantasy]</td>\n      <td>1995</td>\n      <td>1.0</td>\n      <td>0.0</td>\n      <td>1.0</td>\n      <td>0.0</td>\n      <td>1.0</td>\n      <td>0.0</td>\n      <td>...</td>\n      <td>0.0</td>\n      <td>0.0</td>\n      <td>0.0</td>\n      <td>0.0</td>\n      <td>0.0</td>\n      <td>0.0</td>\n      <td>0.0</td>\n      <td>0.0</td>\n      <td>0.0</td>\n      <td>0.0</td>\n    </tr>\n    <tr>\n      <th>2</th>\n      <td>3</td>\n      <td>Grumpier Old Men</td>\n      <td>[Comedy, Romance]</td>\n      <td>1995</td>\n      <td>0.0</td>\n      <td>0.0</td>\n      <td>0.0</td>\n      <td>1.0</td>\n      <td>0.0</td>\n      <td>1.0</td>\n      <td>...</td>\n      <td>0.0</td>\n      <td>0.0</td>\n      <td>0.0</td>\n      <td>0.0</td>\n      <td>0.0</td>\n      <td>0.0</td>\n      <td>0.0</td>\n      <td>0.0</td>\n      <td>0.0</td>\n      <td>0.0</td>\n    </tr>\n    <tr>\n      <th>3</th>\n      <td>4</td>\n      <td>Waiting to Exhale</td>\n      <td>[Comedy, Drama, Romance]</td>\n      <td>1995</td>\n      <td>0.0</td>\n      <td>0.0</td>\n      <td>0.0</td>\n      <td>1.0</td>\n      <td>0.0</td>\n      <td>1.0</td>\n      <td>...</td>\n      <td>0.0</td>\n      <td>0.0</td>\n      <td>0.0</td>\n      <td>0.0</td>\n      <td>0.0</td>\n      <td>0.0</td>\n      <td>0.0</td>\n      <td>0.0</td>\n      <td>0.0</td>\n      <td>0.0</td>\n    </tr>\n    <tr>\n      <th>4</th>\n      <td>5</td>\n      <td>Father of the Bride Part II</td>\n      <td>[Comedy]</td>\n      <td>1995</td>\n      <td>0.0</td>\n      <td>0.0</td>\n      <td>0.0</td>\n      <td>1.0</td>\n      <td>0.0</td>\n      <td>0.0</td>\n      <td>...</td>\n      <td>0.0</td>\n      <td>0.0</td>\n      <td>0.0</td>\n      <td>0.0</td>\n      <td>0.0</td>\n      <td>0.0</td>\n      <td>0.0</td>\n      <td>0.0</td>\n      <td>0.0</td>\n      <td>0.0</td>\n    </tr>\n  </tbody>\n</table>\n<p>5 rows × 24 columns</p>\n</div>"
     },
     "metadata": {},
     "execution_count": 15
    }
   ],
   "source": [
    "#Copying the movie dataframe into a new one since we won't need to use the genre information in our first case.\n",
    "moviesWithGenres_df = movies_df.copy()\n",
    "\n",
    "#For every row in the dataframe, iterate through the list of genres and place a 1 into the corresponding column\n",
    "for index, row in movies_df.iterrows():\n",
    "    for genre in row['genres']:\n",
    "        moviesWithGenres_df.at[index, genre] = 1\n",
    "#Filling in the NaN values with 0 to show that a movie doesn't have that column's genre\n",
    "moviesWithGenres_df = moviesWithGenres_df.fillna(0)\n",
    "moviesWithGenres_df.head()"
   ]
  },
  {
   "cell_type": "code",
   "execution_count": 16,
   "metadata": {},
   "outputs": [
    {
     "output_type": "execute_result",
     "data": {
      "text/plain": "   userId  movieId  rating\n0       1      169     2.5\n1       1     2471     3.0\n2       1    48516     5.0\n3       2     2571     3.5\n4       2   109487     4.0",
      "text/html": "<div>\n<style scoped>\n    .dataframe tbody tr th:only-of-type {\n        vertical-align: middle;\n    }\n\n    .dataframe tbody tr th {\n        vertical-align: top;\n    }\n\n    .dataframe thead th {\n        text-align: right;\n    }\n</style>\n<table border=\"1\" class=\"dataframe\">\n  <thead>\n    <tr style=\"text-align: right;\">\n      <th></th>\n      <th>userId</th>\n      <th>movieId</th>\n      <th>rating</th>\n    </tr>\n  </thead>\n  <tbody>\n    <tr>\n      <th>0</th>\n      <td>1</td>\n      <td>169</td>\n      <td>2.5</td>\n    </tr>\n    <tr>\n      <th>1</th>\n      <td>1</td>\n      <td>2471</td>\n      <td>3.0</td>\n    </tr>\n    <tr>\n      <th>2</th>\n      <td>1</td>\n      <td>48516</td>\n      <td>5.0</td>\n    </tr>\n    <tr>\n      <th>3</th>\n      <td>2</td>\n      <td>2571</td>\n      <td>3.5</td>\n    </tr>\n    <tr>\n      <th>4</th>\n      <td>2</td>\n      <td>109487</td>\n      <td>4.0</td>\n    </tr>\n  </tbody>\n</table>\n</div>"
     },
     "metadata": {},
     "execution_count": 16
    }
   ],
   "source": [
    "#Drop removes a specified row or column from a dataframe\n",
    "ratings_df = ratings_df.drop('timestamp', 1)\n",
    "ratings_df.head()"
   ]
  },
  {
   "cell_type": "code",
   "execution_count": 17,
   "metadata": {},
   "outputs": [
    {
     "output_type": "execute_result",
     "data": {
      "text/plain": "                 title  rating\n0  Breakfast Club, The     3.5\n1            Toy Story     5.0\n2              Jumanji     4.0\n3         Pulp Fiction     5.0\n4                Akira     2.5",
      "text/html": "<div>\n<style scoped>\n    .dataframe tbody tr th:only-of-type {\n        vertical-align: middle;\n    }\n\n    .dataframe tbody tr th {\n        vertical-align: top;\n    }\n\n    .dataframe thead th {\n        text-align: right;\n    }\n</style>\n<table border=\"1\" class=\"dataframe\">\n  <thead>\n    <tr style=\"text-align: right;\">\n      <th></th>\n      <th>title</th>\n      <th>rating</th>\n    </tr>\n  </thead>\n  <tbody>\n    <tr>\n      <th>0</th>\n      <td>Breakfast Club, The</td>\n      <td>3.5</td>\n    </tr>\n    <tr>\n      <th>1</th>\n      <td>Toy Story</td>\n      <td>5.0</td>\n    </tr>\n    <tr>\n      <th>2</th>\n      <td>Jumanji</td>\n      <td>4.0</td>\n    </tr>\n    <tr>\n      <th>3</th>\n      <td>Pulp Fiction</td>\n      <td>5.0</td>\n    </tr>\n    <tr>\n      <th>4</th>\n      <td>Akira</td>\n      <td>2.5</td>\n    </tr>\n  </tbody>\n</table>\n</div>"
     },
     "metadata": {},
     "execution_count": 17
    }
   ],
   "source": [
    "userInput = [\n",
    "            {'title':'Breakfast Club, The', 'rating':3.5},\n",
    "            {'title':'Toy Story', 'rating':5},\n",
    "            {'title':'Jumanji', 'rating':4},\n",
    "            {'title':\"Pulp Fiction\", 'rating':5},\n",
    "            {'title':'Akira', 'rating':2.5}\n",
    "         ] \n",
    "inputMovies = pd.DataFrame(userInput)\n",
    "inputMovies"
   ]
  },
  {
   "cell_type": "code",
   "execution_count": 18,
   "metadata": {},
   "outputs": [
    {
     "output_type": "execute_result",
     "data": {
      "text/plain": "   movieId                title  rating\n0        1            Toy Story     5.0\n1        2              Jumanji     4.0\n2      296         Pulp Fiction     5.0\n3     1274                Akira     2.5\n4     1968  Breakfast Club, The     3.5",
      "text/html": "<div>\n<style scoped>\n    .dataframe tbody tr th:only-of-type {\n        vertical-align: middle;\n    }\n\n    .dataframe tbody tr th {\n        vertical-align: top;\n    }\n\n    .dataframe thead th {\n        text-align: right;\n    }\n</style>\n<table border=\"1\" class=\"dataframe\">\n  <thead>\n    <tr style=\"text-align: right;\">\n      <th></th>\n      <th>movieId</th>\n      <th>title</th>\n      <th>rating</th>\n    </tr>\n  </thead>\n  <tbody>\n    <tr>\n      <th>0</th>\n      <td>1</td>\n      <td>Toy Story</td>\n      <td>5.0</td>\n    </tr>\n    <tr>\n      <th>1</th>\n      <td>2</td>\n      <td>Jumanji</td>\n      <td>4.0</td>\n    </tr>\n    <tr>\n      <th>2</th>\n      <td>296</td>\n      <td>Pulp Fiction</td>\n      <td>5.0</td>\n    </tr>\n    <tr>\n      <th>3</th>\n      <td>1274</td>\n      <td>Akira</td>\n      <td>2.5</td>\n    </tr>\n    <tr>\n      <th>4</th>\n      <td>1968</td>\n      <td>Breakfast Club, The</td>\n      <td>3.5</td>\n    </tr>\n  </tbody>\n</table>\n</div>"
     },
     "metadata": {},
     "execution_count": 18
    }
   ],
   "source": [
    "#Filtering out the movies by title\n",
    "inputId = movies_df[movies_df['title'].isin(inputMovies['title'].tolist())]\n",
    "#Then merging it so we can get the movieId. It's implicitly merging it by title.\n",
    "inputMovies = pd.merge(inputId, inputMovies)\n",
    "#Dropping information we won't use from the input dataframe\n",
    "inputMovies = inputMovies.drop('genres', 1).drop('year', 1)\n",
    "#Final input dataframe\n",
    "#If a movie you added in above isn't here, then it might not be in the original \n",
    "#dataframe or it might spelled differently, please check capitalisation.\n",
    "inputMovies"
   ]
  },
  {
   "cell_type": "code",
   "execution_count": 19,
   "metadata": {},
   "outputs": [
    {
     "output_type": "execute_result",
     "data": {
      "text/plain": "      movieId                title  \\\n0           1            Toy Story   \n1           2              Jumanji   \n293       296         Pulp Fiction   \n1246     1274                Akira   \n1885     1968  Breakfast Club, The   \n\n                                                 genres  year  Adventure  \\\n0     [Adventure, Animation, Children, Comedy, Fantasy]  1995        1.0   \n1                        [Adventure, Children, Fantasy]  1995        1.0   \n293                    [Comedy, Crime, Drama, Thriller]  1994        0.0   \n1246             [Action, Adventure, Animation, Sci-Fi]  1988        1.0   \n1885                                    [Comedy, Drama]  1985        0.0   \n\n      Animation  Children  Comedy  Fantasy  Romance  ...  Horror  Mystery  \\\n0           1.0       1.0     1.0      1.0      0.0  ...     0.0      0.0   \n1           0.0       1.0     0.0      1.0      0.0  ...     0.0      0.0   \n293         0.0       0.0     1.0      0.0      0.0  ...     0.0      0.0   \n1246        1.0       0.0     0.0      0.0      0.0  ...     0.0      0.0   \n1885        0.0       0.0     1.0      0.0      0.0  ...     0.0      0.0   \n\n      Sci-Fi  IMAX  Documentary  War  Musical  Western  Film-Noir  \\\n0        0.0   0.0          0.0  0.0      0.0      0.0        0.0   \n1        0.0   0.0          0.0  0.0      0.0      0.0        0.0   \n293      0.0   0.0          0.0  0.0      0.0      0.0        0.0   \n1246     1.0   0.0          0.0  0.0      0.0      0.0        0.0   \n1885     0.0   0.0          0.0  0.0      0.0      0.0        0.0   \n\n      (no genres listed)  \n0                    0.0  \n1                    0.0  \n293                  0.0  \n1246                 0.0  \n1885                 0.0  \n\n[5 rows x 24 columns]",
      "text/html": "<div>\n<style scoped>\n    .dataframe tbody tr th:only-of-type {\n        vertical-align: middle;\n    }\n\n    .dataframe tbody tr th {\n        vertical-align: top;\n    }\n\n    .dataframe thead th {\n        text-align: right;\n    }\n</style>\n<table border=\"1\" class=\"dataframe\">\n  <thead>\n    <tr style=\"text-align: right;\">\n      <th></th>\n      <th>movieId</th>\n      <th>title</th>\n      <th>genres</th>\n      <th>year</th>\n      <th>Adventure</th>\n      <th>Animation</th>\n      <th>Children</th>\n      <th>Comedy</th>\n      <th>Fantasy</th>\n      <th>Romance</th>\n      <th>...</th>\n      <th>Horror</th>\n      <th>Mystery</th>\n      <th>Sci-Fi</th>\n      <th>IMAX</th>\n      <th>Documentary</th>\n      <th>War</th>\n      <th>Musical</th>\n      <th>Western</th>\n      <th>Film-Noir</th>\n      <th>(no genres listed)</th>\n    </tr>\n  </thead>\n  <tbody>\n    <tr>\n      <th>0</th>\n      <td>1</td>\n      <td>Toy Story</td>\n      <td>[Adventure, Animation, Children, Comedy, Fantasy]</td>\n      <td>1995</td>\n      <td>1.0</td>\n      <td>1.0</td>\n      <td>1.0</td>\n      <td>1.0</td>\n      <td>1.0</td>\n      <td>0.0</td>\n      <td>...</td>\n      <td>0.0</td>\n      <td>0.0</td>\n      <td>0.0</td>\n      <td>0.0</td>\n      <td>0.0</td>\n      <td>0.0</td>\n      <td>0.0</td>\n      <td>0.0</td>\n      <td>0.0</td>\n      <td>0.0</td>\n    </tr>\n    <tr>\n      <th>1</th>\n      <td>2</td>\n      <td>Jumanji</td>\n      <td>[Adventure, Children, Fantasy]</td>\n      <td>1995</td>\n      <td>1.0</td>\n      <td>0.0</td>\n      <td>1.0</td>\n      <td>0.0</td>\n      <td>1.0</td>\n      <td>0.0</td>\n      <td>...</td>\n      <td>0.0</td>\n      <td>0.0</td>\n      <td>0.0</td>\n      <td>0.0</td>\n      <td>0.0</td>\n      <td>0.0</td>\n      <td>0.0</td>\n      <td>0.0</td>\n      <td>0.0</td>\n      <td>0.0</td>\n    </tr>\n    <tr>\n      <th>293</th>\n      <td>296</td>\n      <td>Pulp Fiction</td>\n      <td>[Comedy, Crime, Drama, Thriller]</td>\n      <td>1994</td>\n      <td>0.0</td>\n      <td>0.0</td>\n      <td>0.0</td>\n      <td>1.0</td>\n      <td>0.0</td>\n      <td>0.0</td>\n      <td>...</td>\n      <td>0.0</td>\n      <td>0.0</td>\n      <td>0.0</td>\n      <td>0.0</td>\n      <td>0.0</td>\n      <td>0.0</td>\n      <td>0.0</td>\n      <td>0.0</td>\n      <td>0.0</td>\n      <td>0.0</td>\n    </tr>\n    <tr>\n      <th>1246</th>\n      <td>1274</td>\n      <td>Akira</td>\n      <td>[Action, Adventure, Animation, Sci-Fi]</td>\n      <td>1988</td>\n      <td>1.0</td>\n      <td>1.0</td>\n      <td>0.0</td>\n      <td>0.0</td>\n      <td>0.0</td>\n      <td>0.0</td>\n      <td>...</td>\n      <td>0.0</td>\n      <td>0.0</td>\n      <td>1.0</td>\n      <td>0.0</td>\n      <td>0.0</td>\n      <td>0.0</td>\n      <td>0.0</td>\n      <td>0.0</td>\n      <td>0.0</td>\n      <td>0.0</td>\n    </tr>\n    <tr>\n      <th>1885</th>\n      <td>1968</td>\n      <td>Breakfast Club, The</td>\n      <td>[Comedy, Drama]</td>\n      <td>1985</td>\n      <td>0.0</td>\n      <td>0.0</td>\n      <td>0.0</td>\n      <td>1.0</td>\n      <td>0.0</td>\n      <td>0.0</td>\n      <td>...</td>\n      <td>0.0</td>\n      <td>0.0</td>\n      <td>0.0</td>\n      <td>0.0</td>\n      <td>0.0</td>\n      <td>0.0</td>\n      <td>0.0</td>\n      <td>0.0</td>\n      <td>0.0</td>\n      <td>0.0</td>\n    </tr>\n  </tbody>\n</table>\n<p>5 rows × 24 columns</p>\n</div>"
     },
     "metadata": {},
     "execution_count": 19
    }
   ],
   "source": [
    "#Filtering out the movies from the input\n",
    "userMovies = moviesWithGenres_df[moviesWithGenres_df['movieId'].isin(inputMovies['movieId'].tolist())]\n",
    "userMovies"
   ]
  },
  {
   "cell_type": "code",
   "execution_count": 20,
   "metadata": {},
   "outputs": [
    {
     "output_type": "execute_result",
     "data": {
      "text/plain": "   Adventure  Animation  Children  Comedy  Fantasy  Romance  Drama  Action  \\\n0        1.0        1.0       1.0     1.0      1.0      0.0    0.0     0.0   \n1        1.0        0.0       1.0     0.0      1.0      0.0    0.0     0.0   \n2        0.0        0.0       0.0     1.0      0.0      0.0    1.0     0.0   \n3        1.0        1.0       0.0     0.0      0.0      0.0    0.0     1.0   \n4        0.0        0.0       0.0     1.0      0.0      0.0    1.0     0.0   \n\n   Crime  Thriller  Horror  Mystery  Sci-Fi  IMAX  Documentary  War  Musical  \\\n0    0.0       0.0     0.0      0.0     0.0   0.0          0.0  0.0      0.0   \n1    0.0       0.0     0.0      0.0     0.0   0.0          0.0  0.0      0.0   \n2    1.0       1.0     0.0      0.0     0.0   0.0          0.0  0.0      0.0   \n3    0.0       0.0     0.0      0.0     1.0   0.0          0.0  0.0      0.0   \n4    0.0       0.0     0.0      0.0     0.0   0.0          0.0  0.0      0.0   \n\n   Western  Film-Noir  (no genres listed)  \n0      0.0        0.0                 0.0  \n1      0.0        0.0                 0.0  \n2      0.0        0.0                 0.0  \n3      0.0        0.0                 0.0  \n4      0.0        0.0                 0.0  ",
      "text/html": "<div>\n<style scoped>\n    .dataframe tbody tr th:only-of-type {\n        vertical-align: middle;\n    }\n\n    .dataframe tbody tr th {\n        vertical-align: top;\n    }\n\n    .dataframe thead th {\n        text-align: right;\n    }\n</style>\n<table border=\"1\" class=\"dataframe\">\n  <thead>\n    <tr style=\"text-align: right;\">\n      <th></th>\n      <th>Adventure</th>\n      <th>Animation</th>\n      <th>Children</th>\n      <th>Comedy</th>\n      <th>Fantasy</th>\n      <th>Romance</th>\n      <th>Drama</th>\n      <th>Action</th>\n      <th>Crime</th>\n      <th>Thriller</th>\n      <th>Horror</th>\n      <th>Mystery</th>\n      <th>Sci-Fi</th>\n      <th>IMAX</th>\n      <th>Documentary</th>\n      <th>War</th>\n      <th>Musical</th>\n      <th>Western</th>\n      <th>Film-Noir</th>\n      <th>(no genres listed)</th>\n    </tr>\n  </thead>\n  <tbody>\n    <tr>\n      <th>0</th>\n      <td>1.0</td>\n      <td>1.0</td>\n      <td>1.0</td>\n      <td>1.0</td>\n      <td>1.0</td>\n      <td>0.0</td>\n      <td>0.0</td>\n      <td>0.0</td>\n      <td>0.0</td>\n      <td>0.0</td>\n      <td>0.0</td>\n      <td>0.0</td>\n      <td>0.0</td>\n      <td>0.0</td>\n      <td>0.0</td>\n      <td>0.0</td>\n      <td>0.0</td>\n      <td>0.0</td>\n      <td>0.0</td>\n      <td>0.0</td>\n    </tr>\n    <tr>\n      <th>1</th>\n      <td>1.0</td>\n      <td>0.0</td>\n      <td>1.0</td>\n      <td>0.0</td>\n      <td>1.0</td>\n      <td>0.0</td>\n      <td>0.0</td>\n      <td>0.0</td>\n      <td>0.0</td>\n      <td>0.0</td>\n      <td>0.0</td>\n      <td>0.0</td>\n      <td>0.0</td>\n      <td>0.0</td>\n      <td>0.0</td>\n      <td>0.0</td>\n      <td>0.0</td>\n      <td>0.0</td>\n      <td>0.0</td>\n      <td>0.0</td>\n    </tr>\n    <tr>\n      <th>2</th>\n      <td>0.0</td>\n      <td>0.0</td>\n      <td>0.0</td>\n      <td>1.0</td>\n      <td>0.0</td>\n      <td>0.0</td>\n      <td>1.0</td>\n      <td>0.0</td>\n      <td>1.0</td>\n      <td>1.0</td>\n      <td>0.0</td>\n      <td>0.0</td>\n      <td>0.0</td>\n      <td>0.0</td>\n      <td>0.0</td>\n      <td>0.0</td>\n      <td>0.0</td>\n      <td>0.0</td>\n      <td>0.0</td>\n      <td>0.0</td>\n    </tr>\n    <tr>\n      <th>3</th>\n      <td>1.0</td>\n      <td>1.0</td>\n      <td>0.0</td>\n      <td>0.0</td>\n      <td>0.0</td>\n      <td>0.0</td>\n      <td>0.0</td>\n      <td>1.0</td>\n      <td>0.0</td>\n      <td>0.0</td>\n      <td>0.0</td>\n      <td>0.0</td>\n      <td>1.0</td>\n      <td>0.0</td>\n      <td>0.0</td>\n      <td>0.0</td>\n      <td>0.0</td>\n      <td>0.0</td>\n      <td>0.0</td>\n      <td>0.0</td>\n    </tr>\n    <tr>\n      <th>4</th>\n      <td>0.0</td>\n      <td>0.0</td>\n      <td>0.0</td>\n      <td>1.0</td>\n      <td>0.0</td>\n      <td>0.0</td>\n      <td>1.0</td>\n      <td>0.0</td>\n      <td>0.0</td>\n      <td>0.0</td>\n      <td>0.0</td>\n      <td>0.0</td>\n      <td>0.0</td>\n      <td>0.0</td>\n      <td>0.0</td>\n      <td>0.0</td>\n      <td>0.0</td>\n      <td>0.0</td>\n      <td>0.0</td>\n      <td>0.0</td>\n    </tr>\n  </tbody>\n</table>\n</div>"
     },
     "metadata": {},
     "execution_count": 20
    }
   ],
   "source": [
    "#Resetting the index to avoid future issues\n",
    "userMovies = userMovies.reset_index(drop=True)\n",
    "#Dropping unnecessary issues due to save memory and to avoid issues\n",
    "userGenreTable = userMovies.drop('movieId', 1).drop('title', 1).drop('genres', 1).drop('year', 1)\n",
    "userGenreTable"
   ]
  },
  {
   "cell_type": "code",
   "execution_count": 21,
   "metadata": {},
   "outputs": [
    {
     "output_type": "execute_result",
     "data": {
      "text/plain": "0    5.0\n1    4.0\n2    5.0\n3    2.5\n4    3.5\nName: rating, dtype: float64"
     },
     "metadata": {},
     "execution_count": 21
    }
   ],
   "source": [
    "inputMovies['rating']"
   ]
  },
  {
   "cell_type": "code",
   "execution_count": 23,
   "metadata": {},
   "outputs": [
    {
     "output_type": "execute_result",
     "data": {
      "text/plain": "Adventure             11.5\nAnimation              7.5\nChildren               9.0\nComedy                13.5\nFantasy                9.0\nRomance                0.0\nDrama                  8.5\nAction                 2.5\nCrime                  5.0\nThriller               5.0\nHorror                 0.0\nMystery                0.0\nSci-Fi                 2.5\nIMAX                   0.0\nDocumentary            0.0\nWar                    0.0\nMusical                0.0\nWestern                0.0\nFilm-Noir              0.0\n(no genres listed)     0.0\ndtype: float64"
     },
     "metadata": {},
     "execution_count": 23
    }
   ],
   "source": [
    "#Dot produt to get weights\n",
    "userProfile = userGenreTable.transpose().dot(inputMovies['rating'])\n",
    "#The user profile\n",
    "userProfile"
   ]
  },
  {
   "cell_type": "code",
   "execution_count": 25,
   "metadata": {},
   "outputs": [
    {
     "output_type": "execute_result",
     "data": {
      "text/plain": "         Adventure  Animation  Children  Comedy  Fantasy  Romance  Drama  \\\nmovieId                                                                    \n1              1.0        1.0       1.0     1.0      1.0      0.0    0.0   \n2              1.0        0.0       1.0     0.0      1.0      0.0    0.0   \n3              0.0        0.0       0.0     1.0      0.0      1.0    0.0   \n4              0.0        0.0       0.0     1.0      0.0      1.0    1.0   \n5              0.0        0.0       0.0     1.0      0.0      0.0    0.0   \n\n         Action  Crime  Thriller  Horror  Mystery  Sci-Fi  IMAX  Documentary  \\\nmovieId                                                                        \n1           0.0    0.0       0.0     0.0      0.0     0.0   0.0          0.0   \n2           0.0    0.0       0.0     0.0      0.0     0.0   0.0          0.0   \n3           0.0    0.0       0.0     0.0      0.0     0.0   0.0          0.0   \n4           0.0    0.0       0.0     0.0      0.0     0.0   0.0          0.0   \n5           0.0    0.0       0.0     0.0      0.0     0.0   0.0          0.0   \n\n         War  Musical  Western  Film-Noir  (no genres listed)  \nmovieId                                                        \n1        0.0      0.0      0.0        0.0                 0.0  \n2        0.0      0.0      0.0        0.0                 0.0  \n3        0.0      0.0      0.0        0.0                 0.0  \n4        0.0      0.0      0.0        0.0                 0.0  \n5        0.0      0.0      0.0        0.0                 0.0  ",
      "text/html": "<div>\n<style scoped>\n    .dataframe tbody tr th:only-of-type {\n        vertical-align: middle;\n    }\n\n    .dataframe tbody tr th {\n        vertical-align: top;\n    }\n\n    .dataframe thead th {\n        text-align: right;\n    }\n</style>\n<table border=\"1\" class=\"dataframe\">\n  <thead>\n    <tr style=\"text-align: right;\">\n      <th></th>\n      <th>Adventure</th>\n      <th>Animation</th>\n      <th>Children</th>\n      <th>Comedy</th>\n      <th>Fantasy</th>\n      <th>Romance</th>\n      <th>Drama</th>\n      <th>Action</th>\n      <th>Crime</th>\n      <th>Thriller</th>\n      <th>Horror</th>\n      <th>Mystery</th>\n      <th>Sci-Fi</th>\n      <th>IMAX</th>\n      <th>Documentary</th>\n      <th>War</th>\n      <th>Musical</th>\n      <th>Western</th>\n      <th>Film-Noir</th>\n      <th>(no genres listed)</th>\n    </tr>\n    <tr>\n      <th>movieId</th>\n      <th></th>\n      <th></th>\n      <th></th>\n      <th></th>\n      <th></th>\n      <th></th>\n      <th></th>\n      <th></th>\n      <th></th>\n      <th></th>\n      <th></th>\n      <th></th>\n      <th></th>\n      <th></th>\n      <th></th>\n      <th></th>\n      <th></th>\n      <th></th>\n      <th></th>\n      <th></th>\n    </tr>\n  </thead>\n  <tbody>\n    <tr>\n      <th>1</th>\n      <td>1.0</td>\n      <td>1.0</td>\n      <td>1.0</td>\n      <td>1.0</td>\n      <td>1.0</td>\n      <td>0.0</td>\n      <td>0.0</td>\n      <td>0.0</td>\n      <td>0.0</td>\n      <td>0.0</td>\n      <td>0.0</td>\n      <td>0.0</td>\n      <td>0.0</td>\n      <td>0.0</td>\n      <td>0.0</td>\n      <td>0.0</td>\n      <td>0.0</td>\n      <td>0.0</td>\n      <td>0.0</td>\n      <td>0.0</td>\n    </tr>\n    <tr>\n      <th>2</th>\n      <td>1.0</td>\n      <td>0.0</td>\n      <td>1.0</td>\n      <td>0.0</td>\n      <td>1.0</td>\n      <td>0.0</td>\n      <td>0.0</td>\n      <td>0.0</td>\n      <td>0.0</td>\n      <td>0.0</td>\n      <td>0.0</td>\n      <td>0.0</td>\n      <td>0.0</td>\n      <td>0.0</td>\n      <td>0.0</td>\n      <td>0.0</td>\n      <td>0.0</td>\n      <td>0.0</td>\n      <td>0.0</td>\n      <td>0.0</td>\n    </tr>\n    <tr>\n      <th>3</th>\n      <td>0.0</td>\n      <td>0.0</td>\n      <td>0.0</td>\n      <td>1.0</td>\n      <td>0.0</td>\n      <td>1.0</td>\n      <td>0.0</td>\n      <td>0.0</td>\n      <td>0.0</td>\n      <td>0.0</td>\n      <td>0.0</td>\n      <td>0.0</td>\n      <td>0.0</td>\n      <td>0.0</td>\n      <td>0.0</td>\n      <td>0.0</td>\n      <td>0.0</td>\n      <td>0.0</td>\n      <td>0.0</td>\n      <td>0.0</td>\n    </tr>\n    <tr>\n      <th>4</th>\n      <td>0.0</td>\n      <td>0.0</td>\n      <td>0.0</td>\n      <td>1.0</td>\n      <td>0.0</td>\n      <td>1.0</td>\n      <td>1.0</td>\n      <td>0.0</td>\n      <td>0.0</td>\n      <td>0.0</td>\n      <td>0.0</td>\n      <td>0.0</td>\n      <td>0.0</td>\n      <td>0.0</td>\n      <td>0.0</td>\n      <td>0.0</td>\n      <td>0.0</td>\n      <td>0.0</td>\n      <td>0.0</td>\n      <td>0.0</td>\n    </tr>\n    <tr>\n      <th>5</th>\n      <td>0.0</td>\n      <td>0.0</td>\n      <td>0.0</td>\n      <td>1.0</td>\n      <td>0.0</td>\n      <td>0.0</td>\n      <td>0.0</td>\n      <td>0.0</td>\n      <td>0.0</td>\n      <td>0.0</td>\n      <td>0.0</td>\n      <td>0.0</td>\n      <td>0.0</td>\n      <td>0.0</td>\n      <td>0.0</td>\n      <td>0.0</td>\n      <td>0.0</td>\n      <td>0.0</td>\n      <td>0.0</td>\n      <td>0.0</td>\n    </tr>\n  </tbody>\n</table>\n</div>"
     },
     "metadata": {},
     "execution_count": 25
    }
   ],
   "source": [
    "#Now let's get the genres of every movie in our original dataframe\n",
    "genreTable = moviesWithGenres_df.set_index(moviesWithGenres_df['movieId'])\n",
    "#And drop the unnecessary information\n",
    "genreTable = genreTable.drop('movieId', 1).drop('title', 1).drop('genres', 1).drop('year', 1)\n",
    "genreTable.head()"
   ]
  },
  {
   "cell_type": "code",
   "execution_count": 26,
   "metadata": {},
   "outputs": [
    {
     "output_type": "execute_result",
     "data": {
      "text/plain": "(34208, 20)"
     },
     "metadata": {},
     "execution_count": 26
    }
   ],
   "source": [
    "genreTable.shape"
   ]
  },
  {
   "cell_type": "code",
   "execution_count": 27,
   "metadata": {},
   "outputs": [
    {
     "output_type": "execute_result",
     "data": {
      "text/plain": "movieId\n1    0.682432\n2    0.398649\n3    0.182432\n4    0.297297\n5    0.182432\ndtype: float64"
     },
     "metadata": {},
     "execution_count": 27
    }
   ],
   "source": [
    "#Multiply the genres by the weights and then take the weighted average\n",
    "recommendationTable_df = ((genreTable*userProfile).sum(axis=1))/(userProfile.sum())\n",
    "recommendationTable_df.head()"
   ]
  },
  {
   "cell_type": "code",
   "execution_count": 29,
   "metadata": {},
   "outputs": [
    {
     "output_type": "execute_result",
     "data": {
      "text/plain": "movieId\n26093     0.797297\n2987      0.750000\n5018      0.743243\n148775    0.729730\n32031     0.716216\ndtype: float64"
     },
     "metadata": {},
     "execution_count": 29
    }
   ],
   "source": [
    "#Sort our recommendations in descending order\n",
    "recommendationTable_df = recommendationTable_df.sort_values(ascending=False)\n",
    "#Just a peek at the values\n",
    "recommendationTable_df.head()"
   ]
  },
  {
   "cell_type": "code",
   "execution_count": 30,
   "metadata": {},
   "outputs": [
    {
     "output_type": "execute_result",
     "data": {
      "text/plain": "       movieId                                              title  \\\n0            1                                          Toy Story   \n664        673                                          Space Jam   \n2902      2987                           Who Framed Roger Rabbit?   \n4923      5018                                           Motorama   \n8605     26093         Wonderful World of the Brothers Grimm, The   \n8783     26340  Twelve Tasks of Asterix, The (Les douze travau...   \n9296     27344  Revolutionary Girl Utena: Adolescence of Utena...   \n9825     32031                                             Robots   \n10997    45074                                          Wild, The   \n11197    47124                                     Ant Bully, The   \n11716    51632                            Atlantis: Milo's Return   \n11751    51939                TMNT (Teenage Mutant Ninja Turtles)   \n18317    91355   Asterix and the Vikings (Astérix et les Vikings)   \n22881   108932                                     The Lego Movie   \n24657   115875                 Toy Story Toons: Hawaiian Vacation   \n24659   115879                         Toy Story Toons: Small Fry   \n26770   124519                   Snow White and the Three Stooges   \n27097   125972                Halloweentown II: Kalabar's Revenge   \n28220   130520                                               Home   \n33509   148775                Wizards of Waverly Place: The Movie   \n\n                                                  genres  year  \n0      [Adventure, Animation, Children, Comedy, Fantasy]  1995  \n664    [Adventure, Animation, Children, Comedy, Fanta...  1996  \n2902   [Adventure, Animation, Children, Comedy, Crime...  1988  \n4923   [Adventure, Comedy, Crime, Drama, Fantasy, Mys...  1991  \n8605   [Adventure, Animation, Children, Comedy, Drama...  1962  \n8783   [Action, Adventure, Animation, Children, Comed...  1976  \n9296   [Action, Adventure, Animation, Comedy, Drama, ...  1999  \n9825   [Adventure, Animation, Children, Comedy, Fanta...  2005  \n10997  [Adventure, Animation, Children, Comedy, Fantasy]  2006  \n11197  [Adventure, Animation, Children, Comedy, Fanta...  2006  \n11716  [Action, Adventure, Animation, Children, Comed...  2003  \n11751  [Action, Adventure, Animation, Children, Comed...  2007  \n18317  [Adventure, Animation, Children, Comedy, Fantasy]  2006  \n22881  [Action, Adventure, Animation, Children, Comed...  2014  \n24657  [Adventure, Animation, Children, Comedy, Fantasy]  2011  \n24659  [Adventure, Animation, Children, Comedy, Fantasy]  2011  \n26770      [Adventure, Children, Comedy, Drama, Fantasy]  1961  \n27097      [Adventure, Children, Comedy, Drama, Fantasy]  2001  \n28220  [Adventure, Animation, Children, Comedy, Fanta...  2015  \n33509  [Adventure, Children, Comedy, Drama, Fantasy, ...  2009  ",
      "text/html": "<div>\n<style scoped>\n    .dataframe tbody tr th:only-of-type {\n        vertical-align: middle;\n    }\n\n    .dataframe tbody tr th {\n        vertical-align: top;\n    }\n\n    .dataframe thead th {\n        text-align: right;\n    }\n</style>\n<table border=\"1\" class=\"dataframe\">\n  <thead>\n    <tr style=\"text-align: right;\">\n      <th></th>\n      <th>movieId</th>\n      <th>title</th>\n      <th>genres</th>\n      <th>year</th>\n    </tr>\n  </thead>\n  <tbody>\n    <tr>\n      <th>0</th>\n      <td>1</td>\n      <td>Toy Story</td>\n      <td>[Adventure, Animation, Children, Comedy, Fantasy]</td>\n      <td>1995</td>\n    </tr>\n    <tr>\n      <th>664</th>\n      <td>673</td>\n      <td>Space Jam</td>\n      <td>[Adventure, Animation, Children, Comedy, Fanta...</td>\n      <td>1996</td>\n    </tr>\n    <tr>\n      <th>2902</th>\n      <td>2987</td>\n      <td>Who Framed Roger Rabbit?</td>\n      <td>[Adventure, Animation, Children, Comedy, Crime...</td>\n      <td>1988</td>\n    </tr>\n    <tr>\n      <th>4923</th>\n      <td>5018</td>\n      <td>Motorama</td>\n      <td>[Adventure, Comedy, Crime, Drama, Fantasy, Mys...</td>\n      <td>1991</td>\n    </tr>\n    <tr>\n      <th>8605</th>\n      <td>26093</td>\n      <td>Wonderful World of the Brothers Grimm, The</td>\n      <td>[Adventure, Animation, Children, Comedy, Drama...</td>\n      <td>1962</td>\n    </tr>\n    <tr>\n      <th>8783</th>\n      <td>26340</td>\n      <td>Twelve Tasks of Asterix, The (Les douze travau...</td>\n      <td>[Action, Adventure, Animation, Children, Comed...</td>\n      <td>1976</td>\n    </tr>\n    <tr>\n      <th>9296</th>\n      <td>27344</td>\n      <td>Revolutionary Girl Utena: Adolescence of Utena...</td>\n      <td>[Action, Adventure, Animation, Comedy, Drama, ...</td>\n      <td>1999</td>\n    </tr>\n    <tr>\n      <th>9825</th>\n      <td>32031</td>\n      <td>Robots</td>\n      <td>[Adventure, Animation, Children, Comedy, Fanta...</td>\n      <td>2005</td>\n    </tr>\n    <tr>\n      <th>10997</th>\n      <td>45074</td>\n      <td>Wild, The</td>\n      <td>[Adventure, Animation, Children, Comedy, Fantasy]</td>\n      <td>2006</td>\n    </tr>\n    <tr>\n      <th>11197</th>\n      <td>47124</td>\n      <td>Ant Bully, The</td>\n      <td>[Adventure, Animation, Children, Comedy, Fanta...</td>\n      <td>2006</td>\n    </tr>\n    <tr>\n      <th>11716</th>\n      <td>51632</td>\n      <td>Atlantis: Milo's Return</td>\n      <td>[Action, Adventure, Animation, Children, Comed...</td>\n      <td>2003</td>\n    </tr>\n    <tr>\n      <th>11751</th>\n      <td>51939</td>\n      <td>TMNT (Teenage Mutant Ninja Turtles)</td>\n      <td>[Action, Adventure, Animation, Children, Comed...</td>\n      <td>2007</td>\n    </tr>\n    <tr>\n      <th>18317</th>\n      <td>91355</td>\n      <td>Asterix and the Vikings (Astérix et les Vikings)</td>\n      <td>[Adventure, Animation, Children, Comedy, Fantasy]</td>\n      <td>2006</td>\n    </tr>\n    <tr>\n      <th>22881</th>\n      <td>108932</td>\n      <td>The Lego Movie</td>\n      <td>[Action, Adventure, Animation, Children, Comed...</td>\n      <td>2014</td>\n    </tr>\n    <tr>\n      <th>24657</th>\n      <td>115875</td>\n      <td>Toy Story Toons: Hawaiian Vacation</td>\n      <td>[Adventure, Animation, Children, Comedy, Fantasy]</td>\n      <td>2011</td>\n    </tr>\n    <tr>\n      <th>24659</th>\n      <td>115879</td>\n      <td>Toy Story Toons: Small Fry</td>\n      <td>[Adventure, Animation, Children, Comedy, Fantasy]</td>\n      <td>2011</td>\n    </tr>\n    <tr>\n      <th>26770</th>\n      <td>124519</td>\n      <td>Snow White and the Three Stooges</td>\n      <td>[Adventure, Children, Comedy, Drama, Fantasy]</td>\n      <td>1961</td>\n    </tr>\n    <tr>\n      <th>27097</th>\n      <td>125972</td>\n      <td>Halloweentown II: Kalabar's Revenge</td>\n      <td>[Adventure, Children, Comedy, Drama, Fantasy]</td>\n      <td>2001</td>\n    </tr>\n    <tr>\n      <th>28220</th>\n      <td>130520</td>\n      <td>Home</td>\n      <td>[Adventure, Animation, Children, Comedy, Fanta...</td>\n      <td>2015</td>\n    </tr>\n    <tr>\n      <th>33509</th>\n      <td>148775</td>\n      <td>Wizards of Waverly Place: The Movie</td>\n      <td>[Adventure, Children, Comedy, Drama, Fantasy, ...</td>\n      <td>2009</td>\n    </tr>\n  </tbody>\n</table>\n</div>"
     },
     "metadata": {},
     "execution_count": 30
    }
   ],
   "source": [
    "#The final recommendation table\n",
    "movies_df.loc[movies_df['movieId'].isin(recommendationTable_df.head(20).keys())]"
   ]
  },
  {
   "cell_type": "code",
   "execution_count": null,
   "metadata": {},
   "outputs": [],
   "source": []
  }
 ]
}