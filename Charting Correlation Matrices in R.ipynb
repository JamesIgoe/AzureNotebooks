{
 "cells": [
  {
   "cell_type": "markdown",
   "metadata": {
    "collapsed": true
   },
   "source": [
    "# Charting Correlation Matrices in R"
   ]
  },
  {
   "cell_type": "markdown",
   "metadata": {},
   "source": [
    "## Overview"
   ]
  },
  {
   "cell_type": "markdown",
   "metadata": {},
   "source": [
    "I noticed this very simple, very powerful article by James Marquez, Seven Easy Graphs to Visualize Correlation Matrices in R, in the Google+ community, R Programming for Data Analysis, so thought to give it a try, since I started some of my current analyses a decade ago by generating correlation matrices in Excel, which I've sometimes redone and improved in R. \n",
    "\n",
    "Some of these packages are only designed for display, or as extensions to ggplot2:\n",
    "\n",
    "- corrplot: Visualization of a Correlation Matrix\n",
    "- ggcorrplot: Visualization of a Correlation Matrix using 'ggplot2'\n",
    " \n",
    "These two are focused on more complex analysis:\n",
    "\n",
    "- PerformanceAnalytics: Econometric tools for performance and risk analysis\n",
    "- psych: Procedures for Psychological, Psychometric, and Personality Research\n",
    "\n",
    "As for data, I used Hofstede's culture dimensions, limited to developed countries. Using a broader and larger set of of countries would significantly reduce the correlations, in that only individuality and power distance would show a strong relationship, negative."
   ]
  },
  {
   "cell_type": "markdown",
   "metadata": {},
   "source": [
    "## Load Data"
   ]
  },
  {
   "cell_type": "code",
   "execution_count": 1,
   "metadata": {
    "collapsed": false
   },
   "outputs": [
    {
     "ename": "SyntaxError",
     "evalue": "invalid syntax (3640906121.py, line 2)",
     "output_type": "error",
     "traceback": [
      "\u001b[1;36m  Cell \u001b[1;32mIn[1], line 2\u001b[1;36m\u001b[0m\n\u001b[1;33m    hofsted.vectors <- oecdData[,c('HofstederPowerDx', 'HofstederMasculinity', 'HofstederIndividuality', 'HofstederUncertaintyAvoidance', 'HofstederLongtermOrientation', 'HofstederIndulgence')]\u001b[0m\n\u001b[1;37m                                ^\u001b[0m\n\u001b[1;31mSyntaxError\u001b[0m\u001b[1;31m:\u001b[0m invalid syntax\n"
     ]
    }
   ],
   "source": [
    "oecdData <- read.table(\"OECD - Quality of Life.csv\", header = TRUE, sep = \",\")  \n",
    "hofsted.vectors <- oecdData[,c('HofstederPowerDx', 'HofstederMasculinity', 'HofstederIndividuality', 'HofstederUncertaintyAvoidance', 'HofstederLongtermOrientation', 'HofstederIndulgence')]  \n",
    "names(hofsted.vectors)[1:6] = c('PowerDx', 'Masculinity', 'Individuality', 'UAE', 'LTO', 'Indulgence')"
   ]
  },
  {
   "cell_type": "markdown",
   "metadata": {},
   "source": [
    "### psych"
   ]
  },
  {
   "cell_type": "code",
   "execution_count": null,
   "metadata": {
    "collapsed": false
   },
   "outputs": [],
   "source": [
    " library(psych)\n",
    " pairs.panels(hofsted.vectors, scale = TRUE)"
   ]
  },
  {
   "cell_type": "markdown",
   "metadata": {},
   "source": [
    "### Corrplot"
   ]
  },
  {
   "cell_type": "code",
   "execution_count": null,
   "metadata": {
    "collapsed": false
   },
   "outputs": [],
   "source": [
    "library(corrplot)  \n",
    "corrplot.mixed(cor(hofsted.vectors), order = \"hclust\", tl.col = \"black\") "
   ]
  },
  {
   "cell_type": "markdown",
   "metadata": {},
   "source": [
    "### GGally"
   ]
  },
  {
   "cell_type": "code",
   "execution_count": null,
   "metadata": {
    "collapsed": false
   },
   "outputs": [],
   "source": [
    " library(GGally)  \n",
    " ggpairs(hofsted.vectors) "
   ]
  },
  {
   "cell_type": "markdown",
   "metadata": {},
   "source": [
    "### GGCorrPlot"
   ]
  },
  {
   "cell_type": "code",
   "execution_count": null,
   "metadata": {
    "collapsed": false
   },
   "outputs": [],
   "source": [
    " install.packages(\"ggcorrplot\", dependencies = TRUE)\n",
    " library(ggcorrplot)  \n",
    " ggcorrplot(cor(hofsted.vectors), p.mat = cor_pmat(hofsted.vectors), hc.order = TRUE, type = 'lower')"
   ]
  }
 ],
 "metadata": {
  "kernelspec": {
   "display_name": "Python 3",
   "language": "python",
   "name": "python3"
  },
  "language_info": {
   "codemirror_mode": {
    "name": "ipython",
    "version": 3
   },
   "file_extension": ".py",
   "mimetype": "text/x-python",
   "name": "python",
   "nbconvert_exporter": "python",
   "pygments_lexer": "ipython3",
   "version": "3.10.11"
  }
 },
 "nbformat": 4,
 "nbformat_minor": 2
}
