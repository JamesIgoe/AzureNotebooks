{
 "cells": [
  {
   "cell_type": "markdown",
   "metadata": {},
   "source": [
    "# Intro"
   ]
  },
  {
   "cell_type": "markdown",
   "metadata": {},
   "source": [
    "This module is based on a Pluralsight course, Understanding and Applying Financial Risk Modeling Techniques (https://app.pluralsight.com/library/courses/financial-risk-modeling-techniques/table-of-contents), with this part Implementing Financial Risk Models in Python.\n",
    "\n",
    "The code itself is nearly verbatim, but again, this is mostly for my own development, working through the peculiarities of Value at Risk (VaR) in both R and Python.\n",
    "\n",
    "The general outline of this process is as follows:\n",
    "\n",
    "- Load and clean Data\n",
    "- Calculate returns\n",
    "- Calculate historical variance\n",
    "- Calculate systemic, idiosyncratic, and total variance\n",
    "- Develop a range of stress variants, e.g. scenario-based possibilities\n",
    "- Calculate VaR, as the worst case loss in a period for a particular probability\n",
    "\n",
    "Note, The data required for this is in my Public Google Drive folder: https://drive.google.com/folderview?id=0B5Mi6_CV6da5aFc2Q0g3cHowVms&usp=sharing."
   ]
  },
  {
   "cell_type": "markdown",
   "metadata": {},
   "source": [
    "# Load and Clean Data"
   ]
  },
  {
   "cell_type": "markdown",
   "metadata": {},
   "source": [
    "## Load Libraries"
   ]
  },
  {
   "cell_type": "code",
   "execution_count": 6,
   "metadata": {
    "collapsed": true
   },
   "outputs": [],
   "source": [
    "\n",
    "#changing directory\n",
    "import os\n",
    "\n",
    "#data frames\n",
    "import pandas as pd\n",
    "\n",
    "#statistcial work\n",
    "import numpy as np\n",
    "\n",
    "#for regresssion, used in factor models\n",
    "\n",
    "import statsmodels.api as sm\n",
    "\n",
    "#for calculating VaR\n",
    "from scipy.stats import norm\n",
    "import math\n"
   ]
  },
  {
   "cell_type": "markdown",
   "metadata": {},
   "source": [
    "## Clean Data"
   ]
  },
  {
   "cell_type": "code",
   "execution_count": 7,
   "metadata": {
    "collapsed": false
   },
   "outputs": [
    {
     "data": {
      "text/html": [
       "<div>\n",
       "<style scoped>\n",
       "    .dataframe tbody tr th:only-of-type {\n",
       "        vertical-align: middle;\n",
       "    }\n",
       "\n",
       "    .dataframe tbody tr th {\n",
       "        vertical-align: top;\n",
       "    }\n",
       "\n",
       "    .dataframe thead th {\n",
       "        text-align: right;\n",
       "    }\n",
       "</style>\n",
       "<table border=\"1\" class=\"dataframe\">\n",
       "  <thead>\n",
       "    <tr style=\"text-align: right;\">\n",
       "      <th></th>\n",
       "      <th>AsOfDate</th>\n",
       "      <th>AAPL</th>\n",
       "      <th>ADBE</th>\n",
       "      <th>CVX</th>\n",
       "      <th>GOOG</th>\n",
       "      <th>IBM</th>\n",
       "      <th>MDLZ</th>\n",
       "      <th>MSFT</th>\n",
       "      <th>NFLX</th>\n",
       "      <th>ORCL</th>\n",
       "      <th>SBUX</th>\n",
       "      <th>FVX</th>\n",
       "      <th>SP500</th>\n",
       "    </tr>\n",
       "  </thead>\n",
       "  <tbody>\n",
       "    <tr>\n",
       "      <th>120</th>\n",
       "      <td>2007-01-03</td>\n",
       "      <td>11.107141</td>\n",
       "      <td>38.869999</td>\n",
       "      <td>50.777351</td>\n",
       "      <td>251.001007</td>\n",
       "      <td>79.242500</td>\n",
       "      <td>17.519524</td>\n",
       "      <td>24.118483</td>\n",
       "      <td>3.258571</td>\n",
       "      <td>15.696321</td>\n",
       "      <td>15.752188</td>\n",
       "      <td>4.819</td>\n",
       "      <td>1438.239990</td>\n",
       "    </tr>\n",
       "    <tr>\n",
       "      <th>119</th>\n",
       "      <td>2007-02-01</td>\n",
       "      <td>10.962033</td>\n",
       "      <td>39.250000</td>\n",
       "      <td>48.082939</td>\n",
       "      <td>224.949951</td>\n",
       "      <td>74.503204</td>\n",
       "      <td>16.019426</td>\n",
       "      <td>22.092464</td>\n",
       "      <td>3.218571</td>\n",
       "      <td>15.028588</td>\n",
       "      <td>13.930813</td>\n",
       "      <td>4.503</td>\n",
       "      <td>1406.819946</td>\n",
       "    </tr>\n",
       "    <tr>\n",
       "      <th>118</th>\n",
       "      <td>2007-03-01</td>\n",
       "      <td>12.037377</td>\n",
       "      <td>41.700001</td>\n",
       "      <td>51.900383</td>\n",
       "      <td>229.309311</td>\n",
       "      <td>75.561348</td>\n",
       "      <td>16.009354</td>\n",
       "      <td>21.857189</td>\n",
       "      <td>3.312857</td>\n",
       "      <td>16.583584</td>\n",
       "      <td>14.138198</td>\n",
       "      <td>4.537</td>\n",
       "      <td>1420.859985</td>\n",
       "    </tr>\n",
       "    <tr>\n",
       "      <th>117</th>\n",
       "      <td>2007-04-02</td>\n",
       "      <td>12.930043</td>\n",
       "      <td>41.560001</td>\n",
       "      <td>54.588032</td>\n",
       "      <td>235.925919</td>\n",
       "      <td>81.934280</td>\n",
       "      <td>16.924608</td>\n",
       "      <td>23.480597</td>\n",
       "      <td>3.167143</td>\n",
       "      <td>17.196436</td>\n",
       "      <td>13.984914</td>\n",
       "      <td>4.516</td>\n",
       "      <td>1482.369995</td>\n",
       "    </tr>\n",
       "    <tr>\n",
       "      <th>116</th>\n",
       "      <td>2007-05-01</td>\n",
       "      <td>15.701322</td>\n",
       "      <td>44.060001</td>\n",
       "      <td>57.598267</td>\n",
       "      <td>249.204208</td>\n",
       "      <td>85.786057</td>\n",
       "      <td>17.111704</td>\n",
       "      <td>24.146753</td>\n",
       "      <td>3.128572</td>\n",
       "      <td>17.726965</td>\n",
       "      <td>12.988567</td>\n",
       "      <td>4.853</td>\n",
       "      <td>1530.619995</td>\n",
       "    </tr>\n",
       "  </tbody>\n",
       "</table>\n",
       "</div>"
      ],
      "text/plain": [
       "      AsOfDate       AAPL       ADBE        CVX        GOOG        IBM  \\\n",
       "120 2007-01-03  11.107141  38.869999  50.777351  251.001007  79.242500   \n",
       "119 2007-02-01  10.962033  39.250000  48.082939  224.949951  74.503204   \n",
       "118 2007-03-01  12.037377  41.700001  51.900383  229.309311  75.561348   \n",
       "117 2007-04-02  12.930043  41.560001  54.588032  235.925919  81.934280   \n",
       "116 2007-05-01  15.701322  44.060001  57.598267  249.204208  85.786057   \n",
       "\n",
       "          MDLZ       MSFT      NFLX       ORCL       SBUX    FVX        SP500  \n",
       "120  17.519524  24.118483  3.258571  15.696321  15.752188  4.819  1438.239990  \n",
       "119  16.019426  22.092464  3.218571  15.028588  13.930813  4.503  1406.819946  \n",
       "118  16.009354  21.857189  3.312857  16.583584  14.138198  4.537  1420.859985  \n",
       "117  16.924608  23.480597  3.167143  17.196436  13.984914  4.516  1482.369995  \n",
       "116  17.111704  24.146753  3.128572  17.726965  12.988567  4.853  1530.619995  "
      ]
     },
     "execution_count": 7,
     "metadata": {},
     "output_type": "execute_result"
    }
   ],
   "source": [
    "\n",
    "# Get data\n",
    "portfoliosFilePath = \"Portfolios.csv\"\n",
    "portfolios = pd.read_csv(portfoliosFilePath, sep=\",\")\n",
    "portfolios.head()\n",
    "\n",
    "# format date\n",
    "portfolios['AsOfDate'] = pd.to_datetime(portfolios['AsOfDate'], format='%m/%d/%Y', yearfirst = True)\n",
    "portfolios.head()\n",
    "\n",
    "# sort by date\n",
    "portfolios = portfolios.sort_values(['AsOfDate'] , ascending=True)\n",
    "portfolios.head()\n"
   ]
  },
  {
   "cell_type": "markdown",
   "metadata": {},
   "source": [
    "# Estimating Historical Risk"
   ]
  },
  {
   "cell_type": "markdown",
   "metadata": {},
   "source": [
    "## Calculating Returns"
   ]
  },
  {
   "cell_type": "code",
   "execution_count": 8,
   "metadata": {
    "collapsed": false
   },
   "outputs": [
    {
     "data": {
      "text/plain": [
       "np.float64(0.0026512545422898237)"
      ]
     },
     "execution_count": 8,
     "metadata": {},
     "output_type": "execute_result"
    }
   ],
   "source": [
    "\n",
    "# calculate returns\n",
    "returns = portfolios[[ key for key in dict(portfolios.dtypes) if dict(portfolios.dtypes)[key] in [ 'float64', 'int64']]].pct_change()\n",
    "returns = returns[1:]\n",
    "returns.head()\n",
    "\n",
    "# add intercept column\n",
    "returns['Intercept'] = 1\n",
    "returns.head()\n",
    "\n",
    "# create lists of names to easily filter returns\n",
    "stockNames = list(returns)[0:10]\n",
    "factorNames = list(returns)[10:13]\n",
    "\n",
    "# set values for returns and weights\n",
    "stockReturns = returns[stockNames]\n",
    "factorReturns = returns[factorNames]\n",
    "weights = np.array([1.0/len(stockNames)]*len(stockNames))\n",
    "\n",
    "# cacluate portfolio variance\n",
    "# Var(p) = W * COV(Y) * W_transposed\n",
    "# matrix multiplication is done via np.dot\n",
    "# first is transpose of weights\n",
    "# second is the covariance of the returns\n",
    "# third is the matrix of weights\n",
    "historicalRisk = np.dot(np.dot(weights, stockReturns.cov()), weights.T)\n",
    "historicalRisk\n"
   ]
  },
  {
   "cell_type": "markdown",
   "metadata": {},
   "source": [
    "# Building Factor Models"
   ]
  },
  {
   "cell_type": "code",
   "execution_count": 9,
   "metadata": {
    "collapsed": false
   },
   "outputs": [
    {
     "data": {
      "text/html": [
       "<div>\n",
       "<style scoped>\n",
       "    .dataframe tbody tr th:only-of-type {\n",
       "        vertical-align: middle;\n",
       "    }\n",
       "\n",
       "    .dataframe tbody tr th {\n",
       "        vertical-align: top;\n",
       "    }\n",
       "\n",
       "    .dataframe thead th {\n",
       "        text-align: right;\n",
       "    }\n",
       "</style>\n",
       "<table border=\"1\" class=\"dataframe\">\n",
       "  <thead>\n",
       "    <tr style=\"text-align: right;\">\n",
       "      <th></th>\n",
       "      <th>B_FVX</th>\n",
       "      <th>B_SP500</th>\n",
       "      <th>Alpha</th>\n",
       "      <th>ResidualVol</th>\n",
       "      <th>Names</th>\n",
       "    </tr>\n",
       "  </thead>\n",
       "  <tbody>\n",
       "    <tr>\n",
       "      <th>0</th>\n",
       "      <td>0.000026</td>\n",
       "      <td>1.199119</td>\n",
       "      <td>0.018665</td>\n",
       "      <td>0.075169</td>\n",
       "      <td>AAPL</td>\n",
       "    </tr>\n",
       "    <tr>\n",
       "      <th>1</th>\n",
       "      <td>0.029943</td>\n",
       "      <td>1.424392</td>\n",
       "      <td>0.005645</td>\n",
       "      <td>0.055747</td>\n",
       "      <td>ADBE</td>\n",
       "    </tr>\n",
       "    <tr>\n",
       "      <th>2</th>\n",
       "      <td>0.026186</td>\n",
       "      <td>0.836438</td>\n",
       "      <td>0.004126</td>\n",
       "      <td>0.045274</td>\n",
       "      <td>CVX</td>\n",
       "    </tr>\n",
       "    <tr>\n",
       "      <th>3</th>\n",
       "      <td>0.054624</td>\n",
       "      <td>1.019837</td>\n",
       "      <td>0.008247</td>\n",
       "      <td>0.068841</td>\n",
       "      <td>GOOG</td>\n",
       "    </tr>\n",
       "    <tr>\n",
       "      <th>4</th>\n",
       "      <td>0.045554</td>\n",
       "      <td>0.665858</td>\n",
       "      <td>0.004701</td>\n",
       "      <td>0.043510</td>\n",
       "      <td>IBM</td>\n",
       "    </tr>\n",
       "    <tr>\n",
       "      <th>5</th>\n",
       "      <td>-0.036069</td>\n",
       "      <td>0.672494</td>\n",
       "      <td>0.006146</td>\n",
       "      <td>0.046565</td>\n",
       "      <td>MDLZ</td>\n",
       "    </tr>\n",
       "    <tr>\n",
       "      <th>6</th>\n",
       "      <td>0.039786</td>\n",
       "      <td>0.988544</td>\n",
       "      <td>0.005911</td>\n",
       "      <td>0.056066</td>\n",
       "      <td>MSFT</td>\n",
       "    </tr>\n",
       "    <tr>\n",
       "      <th>7</th>\n",
       "      <td>-0.037955</td>\n",
       "      <td>0.829199</td>\n",
       "      <td>0.042232</td>\n",
       "      <td>0.171450</td>\n",
       "      <td>NFLX</td>\n",
       "    </tr>\n",
       "    <tr>\n",
       "      <th>8</th>\n",
       "      <td>0.031629</td>\n",
       "      <td>1.065534</td>\n",
       "      <td>0.004897</td>\n",
       "      <td>0.047754</td>\n",
       "      <td>ORCL</td>\n",
       "    </tr>\n",
       "    <tr>\n",
       "      <th>9</th>\n",
       "      <td>0.015355</td>\n",
       "      <td>1.087114</td>\n",
       "      <td>0.008556</td>\n",
       "      <td>0.065166</td>\n",
       "      <td>SBUX</td>\n",
       "    </tr>\n",
       "  </tbody>\n",
       "</table>\n",
       "</div>"
      ],
      "text/plain": [
       "      B_FVX   B_SP500     Alpha  ResidualVol Names\n",
       "0  0.000026  1.199119  0.018665     0.075169  AAPL\n",
       "1  0.029943  1.424392  0.005645     0.055747  ADBE\n",
       "2  0.026186  0.836438  0.004126     0.045274   CVX\n",
       "3  0.054624  1.019837  0.008247     0.068841  GOOG\n",
       "4  0.045554  0.665858  0.004701     0.043510   IBM\n",
       "5 -0.036069  0.672494  0.006146     0.046565  MDLZ\n",
       "6  0.039786  0.988544  0.005911     0.056066  MSFT\n",
       "7 -0.037955  0.829199  0.042232     0.171450  NFLX\n",
       "8  0.031629  1.065534  0.004897     0.047754  ORCL\n",
       "9  0.015355  1.087114  0.008556     0.065166  SBUX"
      ]
     },
     "execution_count": 9,
     "metadata": {},
     "output_type": "execute_result"
    }
   ],
   "source": [
    "\n",
    "factorData = factorReturns\n",
    "factorData.head()\n",
    "\n",
    "# calculate lm (regression) for FVX, SP500, and the stock value\n",
    "# loops for each stock to create\n",
    "# create data frame\n",
    "modelCoeffs =[]\n",
    "for stockName in stockNames:\n",
    "    stockReturn = returns[stockName]\n",
    "    model = sm.OLS(stockReturn, factorData)\n",
    "    result = model.fit()\n",
    "    modelCoeffRow = list(result.params)\n",
    "    modelCoeffRow.append(np.std(result.resid,ddof=1))\n",
    "    modelCoeffs.append(modelCoeffRow)\n",
    "    #print(result.summary())\n",
    "    \n",
    "# cleanup data frame\n",
    "modelCoeffs = pd.DataFrame(modelCoeffs)\n",
    "modelCoeffs.columns = [\"B_FVX\", \"B_SP500\",  \"Alpha\", \"ResidualVol\"]\n",
    "modelCoeffs[\"Names\"] = stockNames\n",
    "modelCoeffs\n"
   ]
  },
  {
   "cell_type": "markdown",
   "metadata": {},
   "source": [
    "# Factor Analysis - Idiosyncratic and Systemic Risk"
   ]
  },
  {
   "cell_type": "markdown",
   "metadata": {
    "collapsed": false
   },
   "source": [
    "Besides historical risk, one can decompose risk into systemic (beta) and idiosyncratic risk (alpha), the latte rbeing specific to the stock itself:\n",
    "\n",
    "TotalVaR(P) = SystemicVaR(P) + IdisyncraticVaR(P)"
   ]
  },
  {
   "cell_type": "markdown",
   "metadata": {},
   "source": [
    "## Systemic Variance"
   ]
  },
  {
   "cell_type": "code",
   "execution_count": 10,
   "metadata": {
    "collapsed": false
   },
   "outputs": [
    {
     "data": {
      "text/plain": [
       "np.float64(0.0019327420244913726)"
      ]
     },
     "execution_count": 10,
     "metadata": {},
     "output_type": "execute_result"
    }
   ],
   "source": [
    "\n",
    "# SystemicVaR(P) = weights * betas * Cov(Factors) * betas_transposed * weights_transposed\n",
    "\n",
    "# inner terms\n",
    "factorCovariance = factorReturns[[\"SP500\",\"FVX\"]].cov()\n",
    "reconstructedCov = np.dot(np.dot(modelCoeffs[[\"B_SP500\", \"B_FVX\"]],factorCovariance),modelCoeffs[[\"B_SP500\", \"B_FVX\"]].T)\n",
    "\n",
    "# include outer terms\n",
    "systemicVariance = np.dot(np.dot(weights, reconstructedCov), weights.T)\n",
    "systemicVariance\n"
   ]
  },
  {
   "cell_type": "markdown",
   "metadata": {},
   "source": [
    "## Idiosyncratic Variance"
   ]
  },
  {
   "cell_type": "code",
   "execution_count": 11,
   "metadata": {
    "collapsed": false
   },
   "outputs": [
    {
     "data": {
      "text/plain": [
       "0.000586741277466821"
      ]
     },
     "execution_count": 11,
     "metadata": {},
     "output_type": "execute_result"
    }
   ],
   "source": [
    "\n",
    "# idosyncraticVariance(P) = weights * var(residuals) * weight_transposed\n",
    "\n",
    "idiosyncraticVariance = sum(weights * modelCoeffs[\"ResidualVol\"] * weights * modelCoeffs[\"ResidualVol\"])\n",
    "idiosyncraticVariance\n"
   ]
  },
  {
   "cell_type": "markdown",
   "metadata": {},
   "source": [
    "## Total Variance"
   ]
  },
  {
   "cell_type": "code",
   "execution_count": 12,
   "metadata": {
    "collapsed": false
   },
   "outputs": [
    {
     "data": {
      "text/plain": [
       "np.float64(0.0025194833019581936)"
      ]
     },
     "execution_count": 12,
     "metadata": {},
     "output_type": "execute_result"
    }
   ],
   "source": [
    "\n",
    "# totalVariance = systemicVariance + idiosyncraticVariance\n",
    "factorBasedVariance = systemicVariance + idiosyncraticVariance\n",
    "factorBasedVariance\n"
   ]
  },
  {
   "cell_type": "markdown",
   "metadata": {},
   "source": [
    "# Scenario-based Stress Testing"
   ]
  },
  {
   "cell_type": "markdown",
   "metadata": {},
   "source": [
    "## Creating Scenarios"
   ]
  },
  {
   "cell_type": "code",
   "execution_count": 13,
   "metadata": {
    "collapsed": false
   },
   "outputs": [
    {
     "name": "stderr",
     "output_type": "stream",
     "text": [
      "C:\\Users\\igoej\\AppData\\Local\\Temp\\ipykernel_23684\\2437322999.py:11: FutureWarning: Calling float on a single element Series is deprecated and will raise a TypeError in the future. Use float(ser.iloc[0]) instead\n",
      "  alpha = float(modelCoeffs[modelCoeffs[\"Names\"] == stockName][\"Alpha\"])\n",
      "C:\\Users\\igoej\\AppData\\Local\\Temp\\ipykernel_23684\\2437322999.py:12: FutureWarning: Calling float on a single element Series is deprecated and will raise a TypeError in the future. Use float(ser.iloc[0]) instead\n",
      "  beta_sp = float(modelCoeffs[modelCoeffs[\"Names\"] == stockName][\"B_SP500\"])\n",
      "C:\\Users\\igoej\\AppData\\Local\\Temp\\ipykernel_23684\\2437322999.py:13: FutureWarning: Calling float on a single element Series is deprecated and will raise a TypeError in the future. Use float(ser.iloc[0]) instead\n",
      "  beta_fvx = float(modelCoeffs[modelCoeffs[\"Names\"] == stockName][\"B_FVX\"])\n"
     ]
    },
    {
     "data": {
      "text/html": [
       "<div>\n",
       "<style scoped>\n",
       "    .dataframe tbody tr th:only-of-type {\n",
       "        vertical-align: middle;\n",
       "    }\n",
       "\n",
       "    .dataframe tbody tr th {\n",
       "        vertical-align: top;\n",
       "    }\n",
       "\n",
       "    .dataframe thead th {\n",
       "        text-align: right;\n",
       "    }\n",
       "</style>\n",
       "<table border=\"1\" class=\"dataframe\">\n",
       "  <thead>\n",
       "    <tr style=\"text-align: right;\">\n",
       "      <th></th>\n",
       "      <th>FVX</th>\n",
       "      <th>SP500</th>\n",
       "      <th>AAPL</th>\n",
       "      <th>ADBE</th>\n",
       "      <th>CVX</th>\n",
       "      <th>GOOG</th>\n",
       "      <th>IBM</th>\n",
       "      <th>MDLZ</th>\n",
       "      <th>MSFT</th>\n",
       "      <th>NFLX</th>\n",
       "      <th>ORCL</th>\n",
       "      <th>SBUX</th>\n",
       "    </tr>\n",
       "  </thead>\n",
       "  <tbody>\n",
       "    <tr>\n",
       "      <th>0</th>\n",
       "      <td>-0.310883</td>\n",
       "      <td>-0.169425</td>\n",
       "      <td>-0.184503</td>\n",
       "      <td>-0.244991</td>\n",
       "      <td>-0.145728</td>\n",
       "      <td>-0.181520</td>\n",
       "      <td>-0.122273</td>\n",
       "      <td>-0.096577</td>\n",
       "      <td>-0.173942</td>\n",
       "      <td>-0.086455</td>\n",
       "      <td>-0.185463</td>\n",
       "      <td>-0.180402</td>\n",
       "    </tr>\n",
       "    <tr>\n",
       "      <th>1</th>\n",
       "      <td>-0.310883</td>\n",
       "      <td>-0.149425</td>\n",
       "      <td>-0.160521</td>\n",
       "      <td>-0.216503</td>\n",
       "      <td>-0.128999</td>\n",
       "      <td>-0.161123</td>\n",
       "      <td>-0.108956</td>\n",
       "      <td>-0.083128</td>\n",
       "      <td>-0.154171</td>\n",
       "      <td>-0.069871</td>\n",
       "      <td>-0.164152</td>\n",
       "      <td>-0.158659</td>\n",
       "    </tr>\n",
       "    <tr>\n",
       "      <th>2</th>\n",
       "      <td>-0.310883</td>\n",
       "      <td>-0.129425</td>\n",
       "      <td>-0.136538</td>\n",
       "      <td>-0.188015</td>\n",
       "      <td>-0.112270</td>\n",
       "      <td>-0.140726</td>\n",
       "      <td>-0.095639</td>\n",
       "      <td>-0.069678</td>\n",
       "      <td>-0.134400</td>\n",
       "      <td>-0.053287</td>\n",
       "      <td>-0.142842</td>\n",
       "      <td>-0.136917</td>\n",
       "    </tr>\n",
       "    <tr>\n",
       "      <th>3</th>\n",
       "      <td>-0.310883</td>\n",
       "      <td>-0.109425</td>\n",
       "      <td>-0.112556</td>\n",
       "      <td>-0.159527</td>\n",
       "      <td>-0.095542</td>\n",
       "      <td>-0.120329</td>\n",
       "      <td>-0.082322</td>\n",
       "      <td>-0.056228</td>\n",
       "      <td>-0.114629</td>\n",
       "      <td>-0.036703</td>\n",
       "      <td>-0.121531</td>\n",
       "      <td>-0.115175</td>\n",
       "    </tr>\n",
       "    <tr>\n",
       "      <th>4</th>\n",
       "      <td>-0.310883</td>\n",
       "      <td>-0.089425</td>\n",
       "      <td>-0.088574</td>\n",
       "      <td>-0.131039</td>\n",
       "      <td>-0.078813</td>\n",
       "      <td>-0.099933</td>\n",
       "      <td>-0.069004</td>\n",
       "      <td>-0.042778</td>\n",
       "      <td>-0.094858</td>\n",
       "      <td>-0.020119</td>\n",
       "      <td>-0.100220</td>\n",
       "      <td>-0.093432</td>\n",
       "    </tr>\n",
       "  </tbody>\n",
       "</table>\n",
       "</div>"
      ],
      "text/plain": [
       "        FVX     SP500      AAPL      ADBE       CVX      GOOG       IBM  \\\n",
       "0 -0.310883 -0.169425 -0.184503 -0.244991 -0.145728 -0.181520 -0.122273   \n",
       "1 -0.310883 -0.149425 -0.160521 -0.216503 -0.128999 -0.161123 -0.108956   \n",
       "2 -0.310883 -0.129425 -0.136538 -0.188015 -0.112270 -0.140726 -0.095639   \n",
       "3 -0.310883 -0.109425 -0.112556 -0.159527 -0.095542 -0.120329 -0.082322   \n",
       "4 -0.310883 -0.089425 -0.088574 -0.131039 -0.078813 -0.099933 -0.069004   \n",
       "\n",
       "       MDLZ      MSFT      NFLX      ORCL      SBUX  \n",
       "0 -0.096577 -0.173942 -0.086455 -0.185463 -0.180402  \n",
       "1 -0.083128 -0.154171 -0.069871 -0.164152 -0.158659  \n",
       "2 -0.069678 -0.134400 -0.053287 -0.142842 -0.136917  \n",
       "3 -0.056228 -0.114629 -0.036703 -0.121531 -0.115175  \n",
       "4 -0.042778 -0.094858 -0.020119 -0.100220 -0.093432  "
      ]
     },
     "execution_count": 13,
     "metadata": {},
     "output_type": "execute_result"
    }
   ],
   "source": [
    "\n",
    "# create a range of scenarios, stepping from min to max for factors, FVX and S&P500\n",
    "fvxScenarios = np.arange(min(returns[\"FVX\"]), max(returns[\"FVX\"]), .05)\n",
    "sp500Scenarios = np.arange(min(returns[\"SP500\"]), max(returns[\"SP500\"]), .02)\n",
    "\n",
    "# build scenarios from fvxScenarios by sp500Scenarios\n",
    "scenarios = []\n",
    "for fvxValue in fvxScenarios:\n",
    "    for sp500value in sp500Scenarios:\n",
    "        scenario = [fvxValue, sp500value]\n",
    "        for stockName in stockNames:\n",
    "            alpha = float(modelCoeffs[modelCoeffs[\"Names\"] == stockName][\"Alpha\"])\n",
    "            beta_sp = float(modelCoeffs[modelCoeffs[\"Names\"] == stockName][\"B_SP500\"])\n",
    "            beta_fvx = float(modelCoeffs[modelCoeffs[\"Names\"] == stockName][\"B_FVX\"])\n",
    "            scenarioPredictedReturn = alpha + (beta_sp * sp500value) + (beta_fvx * fvxValue)\n",
    "            scenario.append(scenarioPredictedReturn)\n",
    "        scenarios.append(scenario)\n",
    "\n",
    "scenarios = pd.DataFrame(scenarios)\n",
    "\n",
    "# set column names\n",
    "scenarios.columns = [\"FVX\",\"SP500\",\"AAPL\",\"ADBE\",\"CVX\",\"GOOG\",\"IBM\",\"MDLZ\",\"MSFT\",\"NFLX\",\"ORCL\",\"SBUX\"]\n",
    "scenarios.head()\n"
   ]
  },
  {
   "cell_type": "markdown",
   "metadata": {},
   "source": [
    "## Calculating Variance"
   ]
  },
  {
   "cell_type": "code",
   "execution_count": 14,
   "metadata": {
    "collapsed": false
   },
   "outputs": [
    {
     "data": {
      "text/plain": [
       "np.float64(0.006272120969460552)"
      ]
     },
     "execution_count": 14,
     "metadata": {},
     "output_type": "execute_result"
    }
   ],
   "source": [
    "\n",
    "# totalVariance(P) = weights * cov(scenarios) * weight_transposed\n",
    "scenariosCov = scenarios[stockNames].cov()\n",
    "scenarioTotalVariance = np.dot(np.dot(weights, scenariosCov), weights.T)\n",
    "scenarioTotalVariance\n"
   ]
  },
  {
   "cell_type": "markdown",
   "metadata": {},
   "source": [
    "# Quantifying the Worst Case"
   ]
  },
  {
   "cell_type": "code",
   "execution_count": 15,
   "metadata": {
    "collapsed": false
   },
   "outputs": [],
   "source": [
    "\n",
    "# VaR = P x Z_alpha x stdDev\n",
    "def calculateVaR(risk, confidenceLevel, principal = 1, numMonths = 1):\n",
    "    vol = math.sqrt(risk)\n",
    "    return abs(principal * norm.ppf(1-confidenceLevel, 0, 1) * vol * math.sqrt(numMonths))\n"
   ]
  },
  {
   "cell_type": "code",
   "execution_count": 16,
   "metadata": {
    "collapsed": false
   },
   "outputs": [
    {
     "data": {
      "text/plain": [
       "np.float64(0.1842391287037656)"
      ]
     },
     "execution_count": 16,
     "metadata": {},
     "output_type": "execute_result"
    }
   ],
   "source": [
    "\n",
    "# Worst Case: VaR based on scenario-based stress testing\n",
    "calculateVaR(scenarioTotalVariance, 0.99)\n"
   ]
  },
  {
   "cell_type": "code",
   "execution_count": 17,
   "metadata": {
    "collapsed": false
   },
   "outputs": [
    {
     "data": {
      "text/plain": [
       "np.float64(0.11676976342787522)"
      ]
     },
     "execution_count": 17,
     "metadata": {},
     "output_type": "execute_result"
    }
   ],
   "source": [
    "\n",
    "# Allternaitve Risk Measure:  VaR based on factors\n",
    "calculateVaR(factorBasedVariance, 0.99)\n"
   ]
  },
  {
   "cell_type": "code",
   "execution_count": 18,
   "metadata": {
    "collapsed": false
   },
   "outputs": [
    {
     "data": {
      "text/plain": [
       "np.float64(0.11978443009308773)"
      ]
     },
     "execution_count": 18,
     "metadata": {},
     "output_type": "execute_result"
    }
   ],
   "source": [
    "\n",
    "# Allternaitve Risk Measure:  VaR based on history\n",
    "calculateVaR(historicalRisk, 0.99)\n"
   ]
  }
 ],
 "metadata": {
  "kernelspec": {
   "display_name": "Python 3",
   "language": "python",
   "name": "python3"
  },
  "language_info": {
   "codemirror_mode": {
    "name": "ipython",
    "version": 3
   },
   "file_extension": ".py",
   "mimetype": "text/x-python",
   "name": "python",
   "nbconvert_exporter": "python",
   "pygments_lexer": "ipython3",
   "version": "3.10.11"
  }
 },
 "nbformat": 4,
 "nbformat_minor": 2
}
