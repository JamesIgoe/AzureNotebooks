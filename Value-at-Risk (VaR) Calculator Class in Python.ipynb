{
 "cells": [
  {
   "cell_type": "markdown",
   "metadata": {},
   "source": [
    "# Intro"
   ]
  },
  {
   "cell_type": "markdown",
   "metadata": {},
   "source": [
    "As part of my self-development, I wanted to rework a script, which are typically one-offs, and turn it into a reusable component, although there are existing packages for VaR. For those unfamiliar with VaR, it is an acronym for value at risk, the worst case loss in a period for a particular probability. This is currently a work in progress, a reworking of prior work with scripted VaR calculations, https://dataanalyticsworkouts.blogspot.com/2017/07/calculating-value-at-risk-var-with.html, implementing various high-level good practices, e.g., hiding/encapsulation, do-not-repeat-yourself (DRY), dependency injection, etc.\n",
    "\n",
    "Features:\n",
    "\n",
    "- Requires a data frame of stock returns, factor returns, and stock weights\n",
    "- Exposes a method for calculating and returning VaR, for different variance types\n",
    "- Exposes a method for calculating and returning an array of VaR values by confidence level\n",
    "- Exposes a method for calculating and plotting an array of VaR values by confidence level\n",
    "\n",
    "Still to do:\n",
    "\n",
    "- Dynamic factor usage\n",
    "\n",
    "Note: Data to validate this class is available from my Google Drive Public folder: https://drive.google.com/folderview?id=0B5Mi6_CV6da5aFc2Q0g3cHowVms&usp=sharing.\n"
   ]
  },
  {
   "cell_type": "markdown",
   "metadata": {},
   "source": [
    "# Class"
   ]
  },
  {
   "cell_type": "code",
   "execution_count": 2,
   "metadata": {},
   "outputs": [],
   "source": [
    "from  enum import Enum\n",
    "class VaRType(Enum):\n",
    "    Historical = 1\n",
    "    Factor = 2\n",
    "    Scenario = 3\n",
    "\n",
    "class RiskCalculator(object):\n",
    "\n",
    "    #################################\n",
    "    # Class back-of-the-napkin\n",
    "    # \n",
    "    # - Provide dataframe of stocks prices\n",
    "    #\n",
    "    # - Provide weights of stocks\n",
    "    # -- Alt: Calculate weights\n",
    "    #\n",
    "    # - Provide dataframe of factor prices\n",
    "    #\n",
    "    # - Extracts stock names into data frame \n",
    "    # - Extract stock returns\n",
    "    #\n",
    "    # - Extracts factor names into data frame \n",
    "    # - Extract factor returns\n",
    "    #\n",
    "    # Historical\n",
    "    # - Use weights and stock returns (no dates)\n",
    "    #\n",
    "    # Factor Model\n",
    "    # - Use factors, stock names, returns\n",
    "    # - create matrix of scenarios\n",
    "    #\n",
    "    # VaR\n",
    "    # - for different risk types and confidence levels calculate VaR\n",
    "    # - for different risk types and confidence levels calculate a range ofVaR\n",
    "    # - for different risk types and confidence levels plot a range ofVaR\n",
    "    #\n",
    "    # To do\n",
    "    # - dynamically build factor matrix\n",
    "    # - Compare dates between stocks and factors\n",
    "    # - Validate data\n",
    "    # - Allow date range\n",
    "    # - Auto-limit date range, with warning\n",
    "    ###################################\n",
    "\n",
    "    \n",
    "    # Hiden Attributes\n",
    "    __stockNames = []\n",
    "    __factorNames = []\n",
    "    __historicalRisk = 0\n",
    "    __systemicVariance = 0\n",
    "    __idiosyncraticVariance = 0\n",
    "    __factorBasedVariance = 0\n",
    "    __scenarioTotalVariance = 0\n",
    "    __modelCoeffs = []\n",
    "\n",
    "    \n",
    "    #################################\n",
    "    # Constructor\n",
    "    #################################\n",
    "    def __init__(self, stockReturns, factorReturns, weights):\n",
    "        self.ChangeData(stockReturns, factorReturns, weights)\n",
    "\n",
    "        \n",
    "    #################################\n",
    "    # Load data, sets and (re)calculates\n",
    "    #################################\n",
    "    def ChangeData(self, stockReturns, factorReturns, weights):        \n",
    "        self.stockReturns = stockReturns\n",
    "        self.factorReturns = factorReturns\n",
    "        self.weights = weights\n",
    "        RiskCalculator.__run()\n",
    "\n",
    "        \n",
    "    #################################\n",
    "    # Run interrnal code\n",
    "    #################################\n",
    "    def __run():\n",
    "        \n",
    "        RiskCalculator.__extractNames()\n",
    "        RiskCalculator.__calculateHistoricalVariance()\n",
    "        RiskCalculator.__calculateHistoricalVariance()\n",
    "        RiskCalculator.__buildFactorModel()\n",
    "        RiskCalculator.__calculateFactorVariance()\n",
    "        RiskCalculator.__calculateScenarioVariance()\n",
    "\n",
    "        \n",
    "    #################################\n",
    "    # Extract names\n",
    "    #################################\n",
    "    def __extractNames():\n",
    "        RiskCalculator.__stockNames = stockReturns.columns\n",
    "        RiskCalculator.__factorNames = factorReturns.columns\n",
    "    \n",
    "    \n",
    "    #################################\n",
    "    # Estimating Historical Risk\n",
    "    # cacluate portfolio variance\n",
    "    # Var(p) = W * COV(Y) * W_transposed\n",
    "    # matrix multiplication is done via np.dot\n",
    "    # first is transpose of weights\n",
    "    # second is the covariance of the returns\n",
    "    # third is the matrix of weights\n",
    "    #################################\n",
    "    def __calculateHistoricalVariance():\n",
    "        RiskCalculator.__historicalRisk = np.dot(np.dot(weights, stockReturns.cov()), weights.T)\n",
    "\n",
    "\n",
    "    #################################\n",
    "    # Building Factor Models\n",
    "    # - Calculate lm (regression) for FVX, SP500, and the each stock\n",
    "    #################################\n",
    "    def __buildFactorModel():\n",
    "\n",
    "        import statsmodels.api as sm\n",
    "\n",
    "        # loops for each stock to create\n",
    "        RiskCalculator.__modelCoeffs = []\n",
    "        for stockName in RiskCalculator.__stockNames:\n",
    "            stockReturn = returns[stockName]\n",
    "            model = sm.OLS(stockReturn, factorReturns)\n",
    "            result = model.fit()\n",
    "            modelCoeffRow = list(result.params)\n",
    "            modelCoeffRow.append(np.std(result.resid,ddof=1))\n",
    "            RiskCalculator.__modelCoeffs.append(modelCoeffRow)\n",
    "    \n",
    "        # convert and cleanup data frame\n",
    "        RiskCalculator.__modelCoeffs = pd.DataFrame(RiskCalculator.__modelCoeffs)\n",
    "        RiskCalculator.__modelCoeffs.columns = [\"B_FVX\", \"B_SP500\",  \"Alpha\", \"ResidualVol\"]\n",
    "        RiskCalculator.__modelCoeffs[\"Names\"] = RiskCalculator.__stockNames\n",
    "\n",
    "        \n",
    "    #################################\n",
    "    # Factor Analysis - Idiosyncratic and Systemic Risk\n",
    "    # TotalVaR(P) = SystemicVaR(P) + IdisyncraticVaR(P)\n",
    "    # SystemicVaR(P) = weights * betas * Cov(Factors) * betas_transposed * weights_transposed\n",
    "    # idosyncraticVariance(P) = weights * var(residuals) * weight_transposed\n",
    "    # totalVariance = systemicVariance + idiosyncraticVariance\n",
    "    #################################\n",
    "    def __calculateFactorVariance():\n",
    "\n",
    "        # inner terms\n",
    "        factorCovariance = factorReturns[[\"SP500\",\"FVX\"]].cov()\n",
    "        reconstructedCov = (np.dot(np.dot(RiskCalculator.__modelCoeffs[[\"B_SP500\", \"B_FVX\"]]\n",
    "                                          ,factorCovariance),RiskCalculator.__modelCoeffs[[\"B_SP500\", \"B_FVX\"]].T))\n",
    "        # include outer terms\n",
    "        RiskCalculator.__systemicVariance = np.dot(np.dot(weights, reconstructedCov), weights.T)\n",
    "\n",
    "        RiskCalculator.__idiosyncraticVariance = sum(weights * RiskCalculator.__modelCoeffs[\"ResidualVol\"] * weights * RiskCalculator.__modelCoeffs[\"ResidualVol\"])\n",
    "\n",
    "        RiskCalculator.__factorBasedVariance =  RiskCalculator.__systemicVariance +  RiskCalculator.__idiosyncraticVariance\n",
    "\n",
    "        \n",
    "    #################################\n",
    "    # Scenario-based Stress Testing\n",
    "    # create a range of scenarios, stepping from min to max for factors, FVX and S&P500\n",
    "    # build scenarios from fvxScenarios by sp500Scenarios\n",
    "    # set column names\n",
    "    # totalVariance(P) = weights * cov(scenarios) * weight_transposed\n",
    "    #################################\n",
    "    def __calculateScenarioVariance():\n",
    "\n",
    "        fvxScenarios = np.arange(min(returns[\"FVX\"]), max(returns[\"FVX\"]), .05)\n",
    "        sp500Scenarios = np.arange(min(returns[\"SP500\"]), max(returns[\"SP500\"]), .02)\n",
    "\n",
    "        scenarios = []\n",
    "        for fvxValue in fvxScenarios:\n",
    "            for sp500value in sp500Scenarios:\n",
    "                scenario = [fvxValue, sp500value]\n",
    "                for stockName in RiskCalculator.__stockNames:\n",
    "                    alpha = float( RiskCalculator.__modelCoeffs[ RiskCalculator.__modelCoeffs[\"Names\"] == stockName][\"Alpha\"])\n",
    "                    beta_sp = float( RiskCalculator.__modelCoeffs[ RiskCalculator.__modelCoeffs[\"Names\"] == stockName][\"B_SP500\"])\n",
    "                    beta_fvx = float( RiskCalculator.__modelCoeffs[ RiskCalculator.__modelCoeffs[\"Names\"] == stockName][\"B_FVX\"])\n",
    "                    scenarioPredictedReturn = alpha + (beta_sp * sp500value) + (beta_fvx * fvxValue)\n",
    "                    scenario.append(scenarioPredictedReturn)\n",
    "                scenarios.append(scenario)\n",
    "\n",
    "        scenarios = pd.DataFrame(scenarios)\n",
    "\n",
    "        scenarios.columns = [\"FVX\",\"SP500\",\"AAPL\",\"ADBE\",\"CVX\",\"GOOG\",\"IBM\",\"MDLZ\",\"MSFT\",\"NFLX\",\"ORCL\",\"SBUX\"]\n",
    "\n",
    "        scenariosCov = scenarios[RiskCalculator.__stockNames].cov()\n",
    "        RiskCalculator.__scenarioTotalVariance = np.dot(np.dot(weights, scenariosCov), weights.T)\n",
    "\n",
    "\n",
    "    #################################\n",
    "    # Simple VaR calculator\n",
    "    # VaR = P x Z_alpha x stdDev\n",
    "    #################################\n",
    "    def __calculateVaR(risk, percentile, principal = 1, numMonths = 1):\n",
    "\n",
    "        import math\n",
    "        import scipy.stats as st\n",
    "\n",
    "        vol = math.sqrt(risk)\n",
    "        return abs(principal * st.norm.ppf(1-percentile, 0, 1) * vol * math.sqrt(numMonths))\n",
    "    \n",
    "    \n",
    "    #################################\n",
    "    # Returns the instance value of the risk type\n",
    "    #################################\n",
    "    def __getRiskByType(varType):\n",
    "                \n",
    "        if varType == VaRType.Historical:\n",
    "            varianceType = RiskCalculator.__historicalRisk\n",
    "        elif varType == VaRType.Factor:\n",
    "            varianceType = RiskCalculator.__factorBasedVariance\n",
    "        elif varType == VaRType.Scenario:\n",
    "            varianceType = RiskCalculator.__scenarioTotalVariance\n",
    "\n",
    "        return varianceType\n",
    "        \n",
    "        \n",
    "    #################################\n",
    "    # Exposed calculator\n",
    "    #################################\n",
    "    def GetVaR(self, varType = VaRType.Historical, percentile = 0.99):\n",
    "\n",
    "        # Type checking\n",
    "        if not isinstance(varType, VaRType):\n",
    "            raise TypeError('vaRType must be an instance of VaRType Enum')\n",
    "        \n",
    "        varianceType = RiskCalculator.__getRiskByType(varType)\n",
    "\n",
    "        return RiskCalculator.__calculateVaR(varianceType, percentile)\n",
    "        \n",
    "        \n",
    "    #################################\n",
    "    # Exposed range calcualtor\n",
    "    #################################\n",
    "    def GetVaRRange(self, varType = VaRType.Historical, minPercentile = 0.90, maxPercentile = 0.995, step = 0.01):\n",
    "\n",
    "        return RiskCalculator.__getVaRRange(varType, minPercentile, maxPercentile, step)\n",
    "        \n",
    "\n",
    "    #################################\n",
    "    # Range calcualtor\n",
    "    #################################\n",
    "    def __getVaRRange(varType = VaRType.Historical, minPercentile = 0.90, maxPercentile = 0.995, step = 0.01):\n",
    "\n",
    "        # Type checking\n",
    "        if not isinstance(varType, VaRType):\n",
    "            raise TypeError('varType must be an instance of VaRType Enum')\n",
    "        \n",
    "        varianceType = RiskCalculator.__getRiskByType(varType)\n",
    "\n",
    "        import numpy as np\n",
    "        stepValues = np.arange(minPercentile, maxPercentile, step) \n",
    "        \n",
    "        # loops for each stock to create\n",
    "        riskArray = []\n",
    "        for stepValue in range(0, len(stepValues), 1):\n",
    "            percentile = stepValues[stepValue]\n",
    "            riskVal = RiskCalculator.__calculateVaR(varianceType, percentile)\n",
    "            riskRow = [percentile, riskVal]\n",
    "            riskArray.append(riskRow)\n",
    "            \n",
    "        import pandas as pd\n",
    "        riskArray = pd.DataFrame(riskArray)\n",
    "        riskArray.columns = [\"Confidence\",\"VaR\"]\n",
    "\n",
    "        return riskArray\n",
    "\n",
    "    \n",
    "    #################################\n",
    "    # Exposed range calcualtor\n",
    "    #################################\n",
    "    def PlotVaRRange(self, varType = VaRType.Historical, minPercentile = 0.90, maxPercentile = 0.995, step = 0.01):\n",
    "\n",
    "        varArray = RiskCalculator.__getVaRRange(varType, minPercentile, maxPercentile, step)\n",
    "\n",
    "        import matplotlib.pyplot as plt\n",
    "        plt.plot(varArray[\"Confidence\"],varArray[\"VaR\"])\n",
    "        plt.show()\n"
   ]
  },
  {
   "cell_type": "markdown",
   "metadata": {},
   "source": [
    "# Use Class"
   ]
  },
  {
   "cell_type": "markdown",
   "metadata": {},
   "source": [
    "## Import and Clean"
   ]
  },
  {
   "cell_type": "code",
   "execution_count": 3,
   "metadata": {},
   "outputs": [],
   "source": [
    "\n",
    "import pandas as pd\n",
    "\n",
    "# Get data\n",
    "portfolios = pd.read_csv(\"Portfolios.csv\", sep=\",\")\n",
    "\n",
    "# format date\n",
    "portfolios['AsOfDate'] = pd.to_datetime(portfolios['AsOfDate'], format='%m/%d/%Y', yearfirst = True)\n",
    "\n",
    "# sort by date\n",
    "portfolios = portfolios.sort_values(['AsOfDate'] , ascending=True)\n"
   ]
  },
  {
   "cell_type": "markdown",
   "metadata": {},
   "source": [
    "## Create Data Frames for Class Initialization"
   ]
  },
  {
   "cell_type": "code",
   "execution_count": 4,
   "metadata": {
    "collapsed": true
   },
   "outputs": [],
   "source": [
    "\n",
    "import numpy as np\n",
    "\n",
    "# calculate returns\n",
    "returns = portfolios[[ key for key in dict(portfolios.dtypes) if dict(portfolios.dtypes)[key] in [ 'float64', 'int64']]].pct_change()\n",
    "returns = returns[1:]\n",
    "\n",
    "# add intercept column\n",
    "returns['Intercept'] = 1\n",
    "\n",
    "# create lists of names to easily filter returns\n",
    "stockNames = list(returns)[0:10]\n",
    "factorNames = list(returns)[10:13]\n",
    "\n",
    "# set values for returns and weights\n",
    "stockReturns = returns[stockNames]\n",
    "factorReturns = returns[factorNames]\n",
    "weights = np.array([1.0/len(stockNames)]*len(stockNames))\n"
   ]
  },
  {
   "cell_type": "markdown",
   "metadata": {},
   "source": [
    "# Display VaR Measures"
   ]
  },
  {
   "cell_type": "markdown",
   "metadata": {},
   "source": [
    "## Create and Run Class"
   ]
  },
  {
   "cell_type": "code",
   "execution_count": 5,
   "metadata": {},
   "outputs": [],
   "source": [
    "\n",
    "test = RiskCalculator(stockReturns, factorReturns, weights)\n"
   ]
  },
  {
   "cell_type": "markdown",
   "metadata": {},
   "source": [
    "## Display Results"
   ]
  },
  {
   "cell_type": "markdown",
   "metadata": {},
   "source": [
    "## Get VaR"
   ]
  },
  {
   "cell_type": "code",
   "execution_count": 6,
   "metadata": {},
   "outputs": [
    {
     "data": {
      "text/plain": [
       "0.11978443009308773"
      ]
     },
     "execution_count": 6,
     "metadata": {},
     "output_type": "execute_result"
    }
   ],
   "source": [
    "\n",
    "test.GetVaR(VaRType.Historical, 0.99)\n"
   ]
  },
  {
   "cell_type": "code",
   "execution_count": 7,
   "metadata": {},
   "outputs": [
    {
     "data": {
      "text/plain": [
       "0.11676976342787514"
      ]
     },
     "execution_count": 7,
     "metadata": {},
     "output_type": "execute_result"
    }
   ],
   "source": [
    "\n",
    "test.GetVaR(VaRType.Factor, 0.99)\n"
   ]
  },
  {
   "cell_type": "code",
   "execution_count": 8,
   "metadata": {},
   "outputs": [
    {
     "data": {
      "text/plain": [
       "0.18423912870376541"
      ]
     },
     "execution_count": 8,
     "metadata": {},
     "output_type": "execute_result"
    }
   ],
   "source": [
    "\n",
    "test.GetVaR(VaRType.Scenario, 0.99)\n"
   ]
  },
  {
   "cell_type": "markdown",
   "metadata": {},
   "source": [
    "## Get a Range of VaR"
   ]
  },
  {
   "cell_type": "code",
   "execution_count": 9,
   "metadata": {},
   "outputs": [
    {
     "data": {
      "text/html": [
       "<div>\n",
       "<table border=\"1\" class=\"dataframe\">\n",
       "  <thead>\n",
       "    <tr style=\"text-align: right;\">\n",
       "      <th></th>\n",
       "      <th>Confidence</th>\n",
       "      <th>VaR</th>\n",
       "    </tr>\n",
       "  </thead>\n",
       "  <tbody>\n",
       "    <tr>\n",
       "      <th>0</th>\n",
       "      <td>0.90</td>\n",
       "      <td>0.065988</td>\n",
       "    </tr>\n",
       "    <tr>\n",
       "      <th>1</th>\n",
       "      <td>0.91</td>\n",
       "      <td>0.069036</td>\n",
       "    </tr>\n",
       "    <tr>\n",
       "      <th>2</th>\n",
       "      <td>0.92</td>\n",
       "      <td>0.072348</td>\n",
       "    </tr>\n",
       "    <tr>\n",
       "      <th>3</th>\n",
       "      <td>0.93</td>\n",
       "      <td>0.075989</td>\n",
       "    </tr>\n",
       "    <tr>\n",
       "      <th>4</th>\n",
       "      <td>0.94</td>\n",
       "      <td>0.080056</td>\n",
       "    </tr>\n",
       "    <tr>\n",
       "      <th>5</th>\n",
       "      <td>0.95</td>\n",
       "      <td>0.084694</td>\n",
       "    </tr>\n",
       "    <tr>\n",
       "      <th>6</th>\n",
       "      <td>0.96</td>\n",
       "      <td>0.090143</td>\n",
       "    </tr>\n",
       "    <tr>\n",
       "      <th>7</th>\n",
       "      <td>0.97</td>\n",
       "      <td>0.096843</td>\n",
       "    </tr>\n",
       "    <tr>\n",
       "      <th>8</th>\n",
       "      <td>0.98</td>\n",
       "      <td>0.105748</td>\n",
       "    </tr>\n",
       "    <tr>\n",
       "      <th>9</th>\n",
       "      <td>0.99</td>\n",
       "      <td>0.119784</td>\n",
       "    </tr>\n",
       "  </tbody>\n",
       "</table>\n",
       "</div>"
      ],
      "text/plain": [
       "   Confidence       VaR\n",
       "0        0.90  0.065988\n",
       "1        0.91  0.069036\n",
       "2        0.92  0.072348\n",
       "3        0.93  0.075989\n",
       "4        0.94  0.080056\n",
       "5        0.95  0.084694\n",
       "6        0.96  0.090143\n",
       "7        0.97  0.096843\n",
       "8        0.98  0.105748\n",
       "9        0.99  0.119784"
      ]
     },
     "execution_count": 9,
     "metadata": {},
     "output_type": "execute_result"
    }
   ],
   "source": [
    "\n",
    "test.GetVaRRange(VaRType.Historical, 0.90, 0.995, 0.01)\n"
   ]
  },
  {
   "cell_type": "code",
   "execution_count": 10,
   "metadata": {},
   "outputs": [
    {
     "data": {
      "text/html": [
       "<div>\n",
       "<table border=\"1\" class=\"dataframe\">\n",
       "  <thead>\n",
       "    <tr style=\"text-align: right;\">\n",
       "      <th></th>\n",
       "      <th>Confidence</th>\n",
       "      <th>VaR</th>\n",
       "    </tr>\n",
       "  </thead>\n",
       "  <tbody>\n",
       "    <tr>\n",
       "      <th>0</th>\n",
       "      <td>0.90</td>\n",
       "      <td>0.064327</td>\n",
       "    </tr>\n",
       "    <tr>\n",
       "      <th>1</th>\n",
       "      <td>0.91</td>\n",
       "      <td>0.067298</td>\n",
       "    </tr>\n",
       "    <tr>\n",
       "      <th>2</th>\n",
       "      <td>0.92</td>\n",
       "      <td>0.070527</td>\n",
       "    </tr>\n",
       "    <tr>\n",
       "      <th>3</th>\n",
       "      <td>0.93</td>\n",
       "      <td>0.074077</td>\n",
       "    </tr>\n",
       "    <tr>\n",
       "      <th>4</th>\n",
       "      <td>0.94</td>\n",
       "      <td>0.078041</td>\n",
       "    </tr>\n",
       "    <tr>\n",
       "      <th>5</th>\n",
       "      <td>0.95</td>\n",
       "      <td>0.082563</td>\n",
       "    </tr>\n",
       "    <tr>\n",
       "      <th>6</th>\n",
       "      <td>0.96</td>\n",
       "      <td>0.087875</td>\n",
       "    </tr>\n",
       "    <tr>\n",
       "      <th>7</th>\n",
       "      <td>0.97</td>\n",
       "      <td>0.094405</td>\n",
       "    </tr>\n",
       "    <tr>\n",
       "      <th>8</th>\n",
       "      <td>0.98</td>\n",
       "      <td>0.103087</td>\n",
       "    </tr>\n",
       "    <tr>\n",
       "      <th>9</th>\n",
       "      <td>0.99</td>\n",
       "      <td>0.116770</td>\n",
       "    </tr>\n",
       "  </tbody>\n",
       "</table>\n",
       "</div>"
      ],
      "text/plain": [
       "   Confidence       VaR\n",
       "0        0.90  0.064327\n",
       "1        0.91  0.067298\n",
       "2        0.92  0.070527\n",
       "3        0.93  0.074077\n",
       "4        0.94  0.078041\n",
       "5        0.95  0.082563\n",
       "6        0.96  0.087875\n",
       "7        0.97  0.094405\n",
       "8        0.98  0.103087\n",
       "9        0.99  0.116770"
      ]
     },
     "execution_count": 10,
     "metadata": {},
     "output_type": "execute_result"
    }
   ],
   "source": [
    "\n",
    "test.GetVaRRange(VaRType.Factor, 0.90, 0.995, 0.01)\n"
   ]
  },
  {
   "cell_type": "code",
   "execution_count": 11,
   "metadata": {},
   "outputs": [
    {
     "data": {
      "text/html": [
       "<div>\n",
       "<table border=\"1\" class=\"dataframe\">\n",
       "  <thead>\n",
       "    <tr style=\"text-align: right;\">\n",
       "      <th></th>\n",
       "      <th>Confidence</th>\n",
       "      <th>VaR</th>\n",
       "    </tr>\n",
       "  </thead>\n",
       "  <tbody>\n",
       "    <tr>\n",
       "      <th>0</th>\n",
       "      <td>0.90</td>\n",
       "      <td>0.101495</td>\n",
       "    </tr>\n",
       "    <tr>\n",
       "      <th>1</th>\n",
       "      <td>0.91</td>\n",
       "      <td>0.106183</td>\n",
       "    </tr>\n",
       "    <tr>\n",
       "      <th>2</th>\n",
       "      <td>0.92</td>\n",
       "      <td>0.111277</td>\n",
       "    </tr>\n",
       "    <tr>\n",
       "      <th>3</th>\n",
       "      <td>0.93</td>\n",
       "      <td>0.116878</td>\n",
       "    </tr>\n",
       "    <tr>\n",
       "      <th>4</th>\n",
       "      <td>0.94</td>\n",
       "      <td>0.123133</td>\n",
       "    </tr>\n",
       "    <tr>\n",
       "      <th>5</th>\n",
       "      <td>0.95</td>\n",
       "      <td>0.130267</td>\n",
       "    </tr>\n",
       "    <tr>\n",
       "      <th>6</th>\n",
       "      <td>0.96</td>\n",
       "      <td>0.138649</td>\n",
       "    </tr>\n",
       "    <tr>\n",
       "      <th>7</th>\n",
       "      <td>0.97</td>\n",
       "      <td>0.148953</td>\n",
       "    </tr>\n",
       "    <tr>\n",
       "      <th>8</th>\n",
       "      <td>0.98</td>\n",
       "      <td>0.162650</td>\n",
       "    </tr>\n",
       "    <tr>\n",
       "      <th>9</th>\n",
       "      <td>0.99</td>\n",
       "      <td>0.184239</td>\n",
       "    </tr>\n",
       "  </tbody>\n",
       "</table>\n",
       "</div>"
      ],
      "text/plain": [
       "   Confidence       VaR\n",
       "0        0.90  0.101495\n",
       "1        0.91  0.106183\n",
       "2        0.92  0.111277\n",
       "3        0.93  0.116878\n",
       "4        0.94  0.123133\n",
       "5        0.95  0.130267\n",
       "6        0.96  0.138649\n",
       "7        0.97  0.148953\n",
       "8        0.98  0.162650\n",
       "9        0.99  0.184239"
      ]
     },
     "execution_count": 11,
     "metadata": {},
     "output_type": "execute_result"
    }
   ],
   "source": [
    "\n",
    "test.GetVaRRange(VaRType.Scenario, 0.90, 0.995, 0.01)\n"
   ]
  },
  {
   "cell_type": "markdown",
   "metadata": {},
   "source": [
    "## Plot VaR"
   ]
  },
  {
   "cell_type": "code",
   "execution_count": 12,
   "metadata": {},
   "outputs": [
    {
     "data": {
      "image/png": "[encoded data removed]",
      "text/plain": [
       "<matplotlib.figure.Figure at 0x7f3a4b4fa8d0>"
      ]
     },
     "metadata": {},
     "output_type": "display_data"
    }
   ],
   "source": [
    "\n",
    "test.PlotVaRRange(VaRType.Historical, 0.90, 0.991, 0.01)\n"
   ]
  },
  {
   "cell_type": "code",
   "execution_count": 13,
   "metadata": {},
   "outputs": [
    {
     "data": {
      "image/png": "[encoded data removed]",
      "text/plain": [
       "<matplotlib.figure.Figure at 0x7f3a49da3ba8>"
      ]
     },
     "metadata": {},
     "output_type": "display_data"
    }
   ],
   "source": [
    "\n",
    "test.PlotVaRRange(VaRType.Factor, 0.75, 0.991, 0.005)\n"
   ]
  },
  {
   "cell_type": "code",
   "execution_count": 14,
   "metadata": {},
   "outputs": [
    {
     "data": {
      "image/png": "[encoded data removed]",
      "text/plain": [
       "<matplotlib.figure.Figure at 0x7f3a49b4f320>"
      ]
     },
     "metadata": {},
     "output_type": "display_data"
    }
   ],
   "source": [
    "\n",
    "test.PlotVaRRange(VaRType.Scenario, 0.5, 0.995, 0.003)\n"
   ]
  }
 ],
 "metadata": {
  "kernelspec": {
   "display_name": "Python 3.6",
   "language": "python",
   "name": "python36"
  },
  "language_info": {
   "codemirror_mode": {
    "name": "ipython",
    "version": 3
   },
   "file_extension": ".py",
   "mimetype": "text/x-python",
   "name": "python",
   "nbconvert_exporter": "python",
   "pygments_lexer": "ipython3",
   "version": "3.6.0"
  }
 },
 "nbformat": 4,
 "nbformat_minor": 2
}
