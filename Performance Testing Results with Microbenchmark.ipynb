{
 "cells": [
  {
   "cell_type": "markdown",
   "metadata": {},
   "source": [
    "# Performance Testing Results with Microbenchmark "
   ]
  },
  {
   "cell_type": "markdown",
   "metadata": {},
   "source": [
    "## Purpose"
   ]
  },
  {
   "cell_type": "markdown",
   "metadata": {},
   "source": [
    "Benchmarking for small bits of code can be compared using microbenchmark, leveraging code I've written to compare performance results implementing vectorization and memoisation. The resulting graph shows the ..."
   ]
  },
  {
   "cell_type": "markdown",
   "metadata": {},
   "source": [
    "## Load Packages"
   ]
  },
  {
   "cell_type": "code",
   "execution_count": 7,
   "metadata": {
    "collapsed": false
   },
   "outputs": [],
   "source": [
    "library(memoise)\n",
    "library(microbenchmark)\n",
    "library(ggplot2)"
   ]
  },
  {
   "cell_type": "markdown",
   "metadata": {},
   "source": [
    "## Create Functions"
   ]
  },
  {
   "cell_type": "code",
   "execution_count": null,
   "metadata": {
    "collapsed": true
   },
   "outputs": [],
   "source": [
    "# base function\n",
    "monte_carlo = function(N) {\n",
    "    hits = 0\n",
    "    for (i in seq_len(N)) {\n",
    "        u1 = runif(1)\n",
    "        u2 = runif(1)\n",
    "        if (u1 ^ 2 > u2)\n",
    "            hits = hits + 1\n",
    "        }\n",
    "    return(hits / N)\n",
    "}\n",
    "\n",
    "# memoise test function \n",
    "monte_carlo_memo <- memoise(monte_carlo)\n",
    "\n",
    "# vectorize function\n",
    "monte_carlo_vec <- function(N) mean(runif(N) ^ 2 > runif(N))\n",
    "\n",
    "# memoise vectorized function\n",
    "monte_carlo_vec_memo <- memoise(monte_carlo_vec)"
   ]
  },
  {
   "cell_type": "markdown",
   "metadata": {},
   "source": [
    "## Run Test"
   ]
  },
  {
   "cell_type": "code",
   "execution_count": null,
   "metadata": {
    "collapsed": true
   },
   "outputs": [],
   "source": [
    "n <- 999999\n",
    "comparison <- microbenchmark(times = 10\n",
    "                             , memoised = system.time(monte_carlo_memo(n))\n",
    "                             , vectorised = system.time(monte_carlo_vec(n))\n",
    "                             , both = system.time(monte_carlo_vec_memo(n)))"
   ]
  },
  {
   "cell_type": "markdown",
   "metadata": {},
   "source": [
    "## Results"
   ]
  },
  {
   "cell_type": "code",
   "execution_count": null,
   "metadata": {
    "collapsed": true
   },
   "outputs": [],
   "source": [
    "Unit: milliseconds\n",
    "       expr        min            lq         mean        median        uq            max        neval\n",
    "   memoised       45.88         51.55      109.45        57.93       63.04         5027.95        100\n",
    " vectorised      176.18        226.01      235.94        236.47      248.78         332.85        100\n",
    "       both       46.23         50.67       59.60        54.74       62.86          224.50        100"
   ]
  },
  {
   "cell_type": "markdown",
   "metadata": {},
   "source": [
    "## Display"
   ]
  },
  {
   "cell_type": "code",
   "execution_count": 8,
   "metadata": {
    "collapsed": false
   },
   "outputs": [
    {
     "data": {},
     "metadata": {},
     "output_type": "display_data"
    },
    {
     "data": {
      "image/png": "[encoded data removed]",
      "text/plain": [
       "plot without title"
      ]
     },
     "metadata": {},
     "output_type": "display_data"
    }
   ],
   "source": [
    "autoplot(comparison)"
   ]
  }
 ],
 "metadata": {
  "kernelspec": {
   "display_name": "R",
   "language": "R",
   "name": "r"
  },
  "language_info": {
   "codemirror_mode": "r",
   "file_extension": ".r",
   "mimetype": "text/x-r-source",
   "name": "R",
   "pygments_lexer": "r",
   "version": "3.3.0"
  }
 },
 "nbformat": 4,
 "nbformat_minor": 2
}
