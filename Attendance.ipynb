{
 "cells": [
  {
   "cell_type": "markdown",
   "metadata": {},
   "source": [
    "# Import Libraries"
   ]
  },
  {
   "cell_type": "code",
   "execution_count": 1,
   "metadata": {},
   "outputs": [],
   "source": [
    "import pandas as pd\n",
    "import numpy as np"
   ]
  },
  {
   "cell_type": "markdown",
   "metadata": {},
   "source": [
    "# Import Attendees"
   ]
  },
  {
   "cell_type": "code",
   "execution_count": 2,
   "metadata": {
    "tags": []
   },
   "outputs": [],
   "source": [
    "attXl = pd.read_excel(\"Attendance Example.xlsx\", usecols='A')\n",
    "attList = np.hstack(attXl.to_numpy().tolist())\n",
    "attEmails=set(attList)"
   ]
  },
  {
   "cell_type": "markdown",
   "metadata": {},
   "source": [
    "# Import Registrants"
   ]
  },
  {
   "cell_type": "code",
   "execution_count": 3,
   "metadata": {},
   "outputs": [],
   "source": [
    "regXl = pd.read_excel(\"Registration Roster.xlsx\", usecols='E')\n",
    "regList = np.hstack(regXl.to_numpy().tolist())\n",
    "regEmails =set(regList)"
   ]
  },
  {
   "cell_type": "markdown",
   "metadata": {},
   "source": [
    "# Set Operations"
   ]
  },
  {
   "cell_type": "code",
   "execution_count": 4,
   "metadata": {
    "tags": []
   },
   "outputs": [],
   "source": [
    "regNotAttended = regEmails.difference(attEmails)\n",
    "attButNotRegistered = attEmails.difference(regEmails)\n",
    "regAndAttended = attEmails.intersection(regEmails)\n",
    "notBoth = attEmails.symmetric_difference(regEmails)"
   ]
  },
  {
   "cell_type": "markdown",
   "metadata": {},
   "source": [
    "# Output Operations"
   ]
  },
  {
   "cell_type": "code",
   "execution_count": 5,
   "metadata": {
    "tags": []
   },
   "outputs": [
    {
     "output_type": "stream",
     "name": "stdout",
     "text": "\nNumber of Attendees: 1049\nNumber of Registered: 1104\nRegistered, but not Attended: 307\nAttended, but not Registered: 252\nRegistered and Attended: 797\nDiff Check: 0\n"
    }
   ],
   "source": [
    "print()\n",
    "print(\"Number of Attendees: \" + str(len(attEmails)))\n",
    "print(\"Number of Registered: \" + str(len(regEmails)))\n",
    "print(\"Registered, but not Attended: \" + str(len(regNotAttended)))\n",
    "#print()\n",
    "#print(regNotAttended)\n",
    "#print()\n",
    "print(\"Attended, but not Registered: \" + str(len(attButNotRegistered)))\n",
    "#print()\n",
    "#print(attButNotRegistered)\n",
    "#print()\n",
    "print(\"Registered and Attended: \" + str(len(regAndAttended)))\n",
    "#print()\n",
    "#print(regAndAttended)\n",
    "#print()\n",
    "print(\"Diff Check: \" + str(len(notBoth) - (len(regNotAttended) + len(attButNotRegistered))))"
   ]
  }
 ],
 "metadata": {
  "kernelspec": {
   "display_name": "Python 3.7.6 64-bit ('base': conda)",
   "language": "python",
   "name": "python_defaultSpec_1595540372713"
  },
  "language_info": {
   "codemirror_mode": {
    "name": "ipython",
    "version": 3
   },
   "file_extension": ".py",
   "mimetype": "text/x-python",
   "name": "python",
   "nbconvert_exporter": "python",
   "pygments_lexer": "ipython3",
   "version": "3.7.6-final"
  }
 },
 "nbformat": 4,
 "nbformat_minor": 2
}