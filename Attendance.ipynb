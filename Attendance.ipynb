{
 "cells": [
  {
   "cell_type": "markdown",
   "metadata": {},
   "source": [
    "# User Input - Enter as long strings"
   ]
  },
  {
   "cell_type": "code",
   "execution_count": 13,
   "metadata": {},
   "outputs": [],
   "source": [
    "attString = \"swartzs@mskcc.org, bethusas@mskcc.org, wileya@mskcc.org, vemuris1@mskcc.org, rodrigh1@mskcc.org, wadea@mskcc.org, corteza1@mskcc.org, thomasj@mskcc.org, engk@mskcc.org, longd@mskcc.org, william0@mskcc.org,kosovoya@mskcc.org, knospler@mskcc.org, elligm@mskcc.org, murdyr@mskcc.org, gleyzeri@mskcc.org, dychesc@mskcc.org, feussc@mskcc.org, nwannec@mskcc.org, saporitt@mskcc.org, sivabalk@mskcc.org, lissadea@mskcc.org, tonga@mskcc.org, subramag@mskcc.org, morganj@mskcc.org, rom1@mskcc.org, magedb@mskcc.org, daviss2@mskcc.org\"\n",
    "\n",
    "regString = \"ostrovsa@mskcc.org, bhattaca@mskcc.org, baldwina@mskcc.org, watsona1@mskcc.org, bijwea@mskcc.org, syeda1@mskcc.org, donga1@mskcc.org, harriota@mskcc.org, briscoa@mskcc.org, cooka@mskcc.org, kleinera@mskcc.org, marantza@mskcc.org, stevensa@mskcc.org, vellaa@mskcc.org, lissadea@mskcc.org, tonga@mskcc.org, kosovoya@mskcc.org, wileya@mskcc.org, corteza1@mskcc.org, johnsona@mskcc.org, palakuda@mskcc.org, joshia@mskcc.org, rodriga3@mskcc.org, coreaa@mskcc.org, kuzyszya@mskcc.org, iqbala1@mskcc.org, quinonea@mskcc.org, gorantla@mskcc.org, patela12@mskcc.org, pankevia@mskcc.org\""
   ]
  },
  {
   "cell_type": "markdown",
   "metadata": {},
   "source": [
    "# Convert Strings to Sets"
   ]
  },
  {
   "cell_type": "code",
   "execution_count": 14,
   "metadata": {},
   "outputs": [],
   "source": [
    "attEmails = set(attString.replace(\" \",\"\").split(\",\"))\n",
    "regEmails = set(regString.replace(\" \",\"\").split(\",\"))"
   ]
  },
  {
   "cell_type": "markdown",
   "metadata": {},
   "source": [
    "# Set Operations"
   ]
  },
  {
   "cell_type": "code",
   "execution_count": 15,
   "metadata": {
    "tags": []
   },
   "outputs": [],
   "source": [
    "regNotAttended = regEmails.difference(attEmails)\n",
    "attButNotRegistered = attEmails.difference(regEmails)\n",
    "regAndAttended = attEmails.intersection(regEmails)\n",
    "notBoth = attEmails.symmetric_difference(regEmails)"
   ]
  },
  {
   "cell_type": "markdown",
   "metadata": {},
   "source": [
    "# Output Operations"
   ]
  },
  {
   "cell_type": "code",
   "execution_count": 16,
   "metadata": {
    "tags": []
   },
   "outputs": [
    {
     "output_type": "stream",
     "name": "stdout",
     "text": "\nNumber of Attendees: 28\nNumber of Registered: 30\n\nRegistered, but not Attended: 25\n\n{'joshia@mskcc.org', 'kleinera@mskcc.org', 'johnsona@mskcc.org', 'bijwea@mskcc.org', 'ostrovsa@mskcc.org', 'palakuda@mskcc.org', 'watsona1@mskcc.org', 'briscoa@mskcc.org', 'bhattaca@mskcc.org', 'gorantla@mskcc.org', 'pankevia@mskcc.org', 'rodriga3@mskcc.org', 'patela12@mskcc.org', 'iqbala1@mskcc.org', 'cooka@mskcc.org', 'quinonea@mskcc.org', 'kuzyszya@mskcc.org', 'baldwina@mskcc.org', 'marantza@mskcc.org', 'stevensa@mskcc.org', 'donga1@mskcc.org', 'syeda1@mskcc.org', 'harriota@mskcc.org', 'coreaa@mskcc.org', 'vellaa@mskcc.org'}\n\nAttended, but not Registered: 23\n\n{'vemuris1@mskcc.org', 'daviss2@mskcc.org', 'magedb@mskcc.org', 'elligm@mskcc.org', 'gleyzeri@mskcc.org', 'knospler@mskcc.org', 'nwannec@mskcc.org', 'wadea@mskcc.org', 'saporitt@mskcc.org', 'murdyr@mskcc.org', 'sivabalk@mskcc.org', 'dychesc@mskcc.org', 'rodrigh1@mskcc.org', 'engk@mskcc.org', 'bethusas@mskcc.org', 'rom1@mskcc.org', 'thomasj@mskcc.org', 'swartzs@mskcc.org', 'subramag@mskcc.org', 'feussc@mskcc.org', 'william0@mskcc.org', 'morganj@mskcc.org', 'longd@mskcc.org'}\n\nRegistered and Attended: 5\n\n{'corteza1@mskcc.org', 'wileya@mskcc.org', 'tonga@mskcc.org', 'lissadea@mskcc.org', 'kosovoya@mskcc.org'}\n\nError Check: 0\n"
    }
   ],
   "source": [
    "print()\n",
    "print(\"Number of Attendees: \" + str(len(attEmails)))\n",
    "print(\"Number of Registered: \" + str(len(regEmails)) + \"\\n\")\n",
    "print(\"Registered, but not Attended: \" + str(len(regNotAttended)))\n",
    "print()\n",
    "print(regNotAttended)\n",
    "print()\n",
    "print(\"Attended, but not Registered: \" + str(len(attButNotRegistered)) + \"\\n\")\n",
    "print(attButNotRegistered)\n",
    "print()\n",
    "print(\"Registered and Attended: \" + str(len(regAndAttended)) + \"\\n\")\n",
    "print(regAndAttended)\n",
    "print()\n",
    "print(\"Error Check: \" + str(len(notBoth) - (len(regNotAttended) + len(attButNotRegistered))))\n"
   ]
  }
 ],
 "metadata": {
  "kernelspec": {
   "display_name": "Python 3.7.6 64-bit ('base': conda)",
   "language": "python",
   "name": "python_defaultSpec_1595492753990"
  },
  "language_info": {
   "codemirror_mode": {
    "name": "ipython",
    "version": 3
   },
   "file_extension": ".py",
   "mimetype": "text/x-python",
   "name": "python",
   "nbconvert_exporter": "python",
   "pygments_lexer": "ipython3",
   "version": "3.7.6-final"
  }
 },
 "nbformat": 4,
 "nbformat_minor": 2
}